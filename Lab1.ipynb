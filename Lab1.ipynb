{
 "cells": [
  {
   "cell_type": "code",
   "execution_count": 13,
   "id": "820538d4-9cb6-4633-9940-2a8b7eedc19c",
   "metadata": {},
   "outputs": [],
   "source": [
    "import numpy as np\n",
    "import matplotlib\n",
    "import matplotlib.pyplot as plt\n",
    "import scipy\n",
    "from scipy import stats"
   ]
  },
  {
   "cell_type": "markdown",
   "id": "69e9e673-7ae1-47af-ab81-1c458dc124dc",
   "metadata": {},
   "source": [
    "# A Little Statistics\n",
    "\n",
    "### 1. Converting a probability into a sigma"
   ]
  },
  {
   "cell_type": "markdown",
   "id": "835e4211-6810-4209-b46d-69668f342916",
   "metadata": {},
   "source": [
    "#### B.\n",
    "erfc(1) tells us that 15.7% of distribution is above Z score of 1 while erf(1) tells us 84.2% of data is below Z score of 1. "
   ]
  },
  {
   "cell_type": "code",
   "execution_count": 14,
   "id": "7e41e3d4-943d-4477-be3f-1d88525184c1",
   "metadata": {},
   "outputs": [
    {
     "data": {
      "text/plain": [
       "0.15729920705028516"
      ]
     },
     "execution_count": 14,
     "metadata": {},
     "output_type": "execute_result"
    }
   ],
   "source": [
    "scipy.special.erfc(1)"
   ]
  },
  {
   "cell_type": "code",
   "execution_count": 15,
   "id": "328d78e4-6936-49d6-9e3c-aefa29193dcc",
   "metadata": {},
   "outputs": [
    {
     "data": {
      "text/plain": [
       "0.8427007929497148"
      ]
     },
     "execution_count": 15,
     "metadata": {},
     "output_type": "execute_result"
    }
   ],
   "source": [
    "scipy.special.erf(1)"
   ]
  },
  {
   "cell_type": "code",
   "execution_count": 16,
   "id": "438569a7-8605-4ef1-a1c8-2f88ce96d7e0",
   "metadata": {},
   "outputs": [
    {
     "data": {
      "text/plain": [
       "0.8413447460685429"
      ]
     },
     "execution_count": 16,
     "metadata": {},
     "output_type": "execute_result"
    }
   ],
   "source": [
    "stats.norm.cdf(1)"
   ]
  },
  {
   "cell_type": "markdown",
   "id": "cc4cb56f-12b7-4020-85cc-76c1b08d5b52",
   "metadata": {},
   "source": [
    "#### C.\n",
    "Probability of sigma values. I used the cumulative density of 0.841 which I know is associated with a sigma of 1. I also put in the percentage for a sigma of 5."
   ]
  },
  {
   "cell_type": "code",
   "execution_count": 20,
   "id": "967cd811-d01d-437e-b3e6-f3a2cb8ae1e5",
   "metadata": {},
   "outputs": [
    {
     "data": {
      "text/plain": [
       "0.9985762706156592"
      ]
     },
     "execution_count": 20,
     "metadata": {},
     "output_type": "execute_result"
    }
   ],
   "source": [
    "stats.norm.ppf(0.841)"
   ]
  },
  {
   "cell_type": "code",
   "execution_count": 21,
   "id": "48b40cb1-ad37-42b0-90c6-914e4a1df4bf",
   "metadata": {},
   "outputs": [
    {
     "data": {
      "text/plain": [
       "1.0"
      ]
     },
     "execution_count": 21,
     "metadata": {},
     "output_type": "execute_result"
    }
   ],
   "source": [
    "stats.norm.ppf(stats.norm.cdf(1))"
   ]
  },
  {
   "cell_type": "code",
   "execution_count": 25,
   "id": "3136a68d-f6b0-410a-bf03-2b4337851364",
   "metadata": {},
   "outputs": [
    {
     "data": {
      "text/plain": [
       "4.999999999970176"
      ]
     },
     "execution_count": 25,
     "metadata": {},
     "output_type": "execute_result"
    }
   ],
   "source": [
    "stats.norm.ppf(.9999997133484281)"
   ]
  },
  {
   "cell_type": "markdown",
   "id": "72f641ee-1e9c-4435-a0eb-85fc6fb1ce60",
   "metadata": {},
   "source": [
    "#### D.\n",
    "Cumulative density of 0.16 gives a -1 sigma because it is less than the mean of the distribution."
   ]
  },
  {
   "cell_type": "code",
   "execution_count": 28,
   "id": "8aa5154b-e805-4b54-8d43-245ffddd3fca",
   "metadata": {},
   "outputs": [
    {
     "data": {
      "text/plain": [
       "-0.994457883209753"
      ]
     },
     "execution_count": 28,
     "metadata": {},
     "output_type": "execute_result"
    }
   ],
   "source": [
    "stats.norm.ppf(.16)"
   ]
  },
  {
   "cell_type": "markdown",
   "id": "fb3ec524-0efb-471e-b68f-4a48049d401d",
   "metadata": {},
   "source": [
    "### 2. Continuous analytic distributions (Lognorm distribution)"
   ]
  },
  {
   "cell_type": "code",
   "execution_count": 70,
   "id": "ccf1793d-7fed-4093-b114-dcb547098193",
   "metadata": {},
   "outputs": [
    {
     "data": {
      "image/png": "[encoded data removed]",
      "text/plain": [
       "<Figure size 1080x720 with 1 Axes>"
      ]
     },
     "metadata": {
      "needs_background": "light"
     },
     "output_type": "display_data"
    }
   ],
   "source": [
    "s=1\n",
    "r = stats.lognorm.rvs(s,scale=0.1, size=100000)\n",
    "\n",
    "plt.rcParams[\"figure.figsize\"] = (15,10)\n",
    "fig, ax = plt.subplots(1, 1)\n",
    "ax.hist(r,1000, density=True)\n",
    "plt.tick_params(labelsize = 10)\n",
    "plt.xlim([0,1])\n",
    "plt.ylim([0,10])\n",
    "x = np.linspace(0,1,1000)\n",
    "ax.plot(x,stats.lognorm.pdf(x,s,loc=0,scale = 0.1),linewidth = 4,alpha = 0.7)\n",
    "ax.set_title('Lognormal Distribution at x=0, scale parameter = 1', fontsize='large')\n",
    "plt.show()"
   ]
  },
  {
   "cell_type": "markdown",
   "id": "d60836ba-e1da-4020-8050-fafb8f97581d",
   "metadata": {},
   "source": [
    "### 3.\n",
    "\n",
    "#### A.\n",
    "0.4\n",
    "\n",
    "#### B.\n",
    "What is the probability of producing my measurement of 0.4 or higher from this distribution?\n",
    "\n",
    "#### C.\n",
    "\n",
    "$ \\LARGE \\int_{0.4}^{\\infty} \\text{pdf}(x) {dx} $\n",
    "\n",
    "#### D.\n",
    "By taking 1 - CDF at 0.4, I found that 8% of measurements would be above this value"
   ]
  },
  {
   "cell_type": "code",
   "execution_count": 81,
   "id": "875b9849-f116-4295-a314-5594259901e7",
   "metadata": {},
   "outputs": [
    {
     "data": {
      "text/plain": [
       "0.08282851900169841"
      ]
     },
     "execution_count": 81,
     "metadata": {},
     "output_type": "execute_result"
    }
   ],
   "source": [
    "1 - stats.lognorm.cdf(0.4,s,loc=0,scale = 0.1)"
   ]
  },
  {
   "cell_type": "markdown",
   "id": "cb6c9045-3863-45eb-8e5e-43cc617234a4",
   "metadata": {},
   "source": [
    "#### E.\n",
    "By taking the norm.ppf of our found cdf value, I found that this is equivalent to a 1.386 Sigma in a normal distributinon."
   ]
  },
  {
   "cell_type": "code",
   "execution_count": 82,
   "id": "93f73e78-6182-43ce-9f8f-1fd872f86537",
   "metadata": {},
   "outputs": [
    {
     "data": {
      "text/plain": [
       "1.386294361119891"
      ]
     },
     "execution_count": 82,
     "metadata": {},
     "output_type": "execute_result"
    }
   ],
   "source": [
    "stats.norm.ppf(stats.lognorm.cdf(0.4,s,loc=0,scale = 0.1))"
   ]
  },
  {
   "cell_type": "code",
   "execution_count": null,
   "id": "1380a57d-4c43-4e7a-bbba-eb769be6af02",
   "metadata": {},
   "outputs": [],
   "source": []
  },
  {
   "cell_type": "code",
   "execution_count": null,
   "id": "b82fb66a-89e2-413c-a8fe-6754ad73ae23",
   "metadata": {},
   "outputs": [],
   "source": []
  },
  {
   "cell_type": "code",
   "execution_count": null,
   "id": "29b1ac1b-94f5-4264-b720-11ac437c06ff",
   "metadata": {},
   "outputs": [],
   "source": []
  },
  {
   "cell_type": "markdown",
   "id": "1e38093a-8fc8-4166-b845-d42dfc4a1594",
   "metadata": {},
   "source": [
    "## Non-continuous distributions (Poisson)"
   ]
  },
  {
   "cell_type": "code",
   "execution_count": null,
   "id": "02f356bf-0d23-4ace-baba-5e2a28cb9f91",
   "metadata": {},
   "outputs": [],
   "source": []
  }
 ],
 "metadata": {
  "kernelspec": {
   "display_name": "Python 3",
   "language": "python",
   "name": "python3"
  },
  "language_info": {
   "codemirror_mode": {
    "name": "ipython",
    "version": 3
   },
   "file_extension": ".py",
   "mimetype": "text/x-python",
   "name": "python",
   "nbconvert_exporter": "python",
   "pygments_lexer": "ipython3",
   "version": "3.8.8"
  }
 },
 "nbformat": 4,
 "nbformat_minor": 5
}
