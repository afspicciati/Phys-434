{
 "cells": [
  {
   "cell_type": "markdown",
   "id": "596b47d4-5f84-4356-9575-e1ff2ab4a33b",
   "metadata": {},
   "source": [
    "# Homework 3 - Phys 434\n",
    "## Andrew Spicciati\n",
    "## 10/19/21"
   ]
  },
  {
   "cell_type": "code",
   "execution_count": 2,
   "id": "c7bf576f-9afd-448a-b9e2-7541211e9285",
   "metadata": {},
   "outputs": [],
   "source": [
    "import numpy as np\n",
    "import matplotlib\n",
    "import matplotlib.pyplot as plt\n",
    "import scipy\n",
    "from scipy import stats\n",
    "\n",
    "import pandas as pd"
   ]
  },
  {
   "cell_type": "markdown",
   "id": "5fc0f6c0-c4a4-434d-a40b-51175c1a04e3",
   "metadata": {},
   "source": [
    "# Problem 1\n",
    "\n",
    "### 1a) Which algorithm makes the fewest mistakes?\n",
    "\n",
    "The first algorithm make fewer mistakes. It only made 8 miscategorizations out of 100 trials, compared to 12 miscategorizations made by the second algorithm in 100 trials.\n",
    "\n",
    "### 1b) Which algorithm is better for the zoo? Explain.\n",
    "\n",
    "The second algorithm is better for the zoo. Even though it made more miscategorizations, it made less miscategorizations of birds. Since what the zoo really values is categorizing birds correctly, this is better for the zoo.\n",
    "\n",
    "### 1c) During the pandemic the number of visitors plummets, and it is only the zoo keeper visiting. So instead of 52% of the photos taken at the aviary door being people, it is now only 1%. Make new truth tables for both algorithms."
   ]
  },
  {
   "cell_type": "code",
   "execution_count": 30,
   "id": "792e4f89-8b64-49b3-8ba3-182f478c9570",
   "metadata": {},
   "outputs": [],
   "source": [
    "num_humans = 1\n",
    "num_bird = 99\n",
    "\n",
    "#algorithm 1\n",
    "p_bird = 45/48\n",
    "p_human = 47/52\n",
    "\n",
    "birds_true = np.round(p_bird * num_bird)\n",
    "birds_false = 99 - birds_true\n",
    "\n",
    "humans_true = np.round(p_human * num_humans)\n",
    "humans_false = 1 - humans_true\n",
    "\n",
    "data1 = [['NN Bird',birds_true,humans_false],['NN Human',birds_false,humans_true]]\n",
    "\n",
    "#algorithm 2\n",
    "p_bird2 = 47/48\n",
    "p_human2 = 42/53\n",
    "\n",
    "birds_true2 = np.round(p_bird2 * num_bird)\n",
    "birds_false2 = 99 - birds_true2\n",
    "\n",
    "humans_true2 = np.round(p_human2*num_humans)\n",
    "humans_false2 = 1 - humans_true2\n",
    "\n",
    "data2 = [['NA Bird',birds_true2,humans_false2],['NA Human',birds_false2,humans_true2]]"
   ]
  },
  {
   "cell_type": "code",
   "execution_count": 31,
   "id": "b0862ede-4b00-474e-be1e-a37ada972b26",
   "metadata": {},
   "outputs": [],
   "source": [
    "table = pd.DataFrame(data=data1,columns=['','True Bird','True Person'])\n",
    "table2 = pd.DataFrame(data=data2,columns=['','True Bird','True Person'])"
   ]
  },
  {
   "cell_type": "code",
   "execution_count": 32,
   "id": "ed53a4ba-b395-4ff7-813f-e919ddb5a232",
   "metadata": {},
   "outputs": [
    {
     "data": {
      "text/html": [
       "<div>\n",
       "<style scoped>\n",
       "    .dataframe tbody tr th:only-of-type {\n",
       "        vertical-align: middle;\n",
       "    }\n",
       "\n",
       "    .dataframe tbody tr th {\n",
       "        vertical-align: top;\n",
       "    }\n",
       "\n",
       "    .dataframe thead th {\n",
       "        text-align: right;\n",
       "    }\n",
       "</style>\n",
       "<table border=\"1\" class=\"dataframe\">\n",
       "  <thead>\n",
       "    <tr style=\"text-align: right;\">\n",
       "      <th></th>\n",
       "      <th></th>\n",
       "      <th>True Bird</th>\n",
       "      <th>True Person</th>\n",
       "    </tr>\n",
       "  </thead>\n",
       "  <tbody>\n",
       "    <tr>\n",
       "      <th>0</th>\n",
       "      <td>NN Bird</td>\n",
       "      <td>93.0</td>\n",
       "      <td>0.0</td>\n",
       "    </tr>\n",
       "    <tr>\n",
       "      <th>1</th>\n",
       "      <td>NN Human</td>\n",
       "      <td>6.0</td>\n",
       "      <td>1.0</td>\n",
       "    </tr>\n",
       "  </tbody>\n",
       "</table>\n",
       "</div>"
      ],
      "text/plain": [
       "             True Bird  True Person\n",
       "0   NN Bird       93.0          0.0\n",
       "1  NN Human        6.0          1.0"
      ]
     },
     "execution_count": 32,
     "metadata": {},
     "output_type": "execute_result"
    }
   ],
   "source": [
    "table"
   ]
  },
  {
   "cell_type": "code",
   "execution_count": 33,
   "id": "094b736a-073b-4850-b2a1-abf842763e88",
   "metadata": {},
   "outputs": [
    {
     "data": {
      "text/html": [
       "<div>\n",
       "<style scoped>\n",
       "    .dataframe tbody tr th:only-of-type {\n",
       "        vertical-align: middle;\n",
       "    }\n",
       "\n",
       "    .dataframe tbody tr th {\n",
       "        vertical-align: top;\n",
       "    }\n",
       "\n",
       "    .dataframe thead th {\n",
       "        text-align: right;\n",
       "    }\n",
       "</style>\n",
       "<table border=\"1\" class=\"dataframe\">\n",
       "  <thead>\n",
       "    <tr style=\"text-align: right;\">\n",
       "      <th></th>\n",
       "      <th></th>\n",
       "      <th>True Bird</th>\n",
       "      <th>True Person</th>\n",
       "    </tr>\n",
       "  </thead>\n",
       "  <tbody>\n",
       "    <tr>\n",
       "      <th>0</th>\n",
       "      <td>NA Bird</td>\n",
       "      <td>97.0</td>\n",
       "      <td>0.0</td>\n",
       "    </tr>\n",
       "    <tr>\n",
       "      <th>1</th>\n",
       "      <td>NA Human</td>\n",
       "      <td>2.0</td>\n",
       "      <td>1.0</td>\n",
       "    </tr>\n",
       "  </tbody>\n",
       "</table>\n",
       "</div>"
      ],
      "text/plain": [
       "             True Bird  True Person\n",
       "0   NA Bird       97.0          0.0\n",
       "1  NA Human        2.0          1.0"
      ]
     },
     "execution_count": 33,
     "metadata": {},
     "output_type": "execute_result"
    }
   ],
   "source": [
    "table2"
   ]
  },
  {
   "cell_type": "markdown",
   "id": "4a73d207-52b2-484e-8e4d-689d5e05efbe",
   "metadata": {},
   "source": [
    "# Problem 2\n",
    "\n",
    "### 2a) What is the pdf of the sum of two identical exponential distributions?\n",
    "\n",
    "The original distribution is given by $P(x) = \\lambda e^{-\\lambda x}$ where \\lambda is a rate parameter. After summing, the distribution becomes $P(x) = \\lambda^2 x e^{-\\lambda x}$. This is also known as the Erlang distribution, with shape parameter $k=2$, and rate parameter $\\lambda = \\lambda$."
   ]
  },
  {
   "cell_type": "code",
   "execution_count": 36,
   "id": "14a6e62a-8efb-42d6-99b6-235eb3f7a60c",
   "metadata": {},
   "outputs": [
    {
     "data": {
      "image/png": "[encoded data removed]",
      "text/plain": [
       "<Figure size 432x288 with 1 Axes>"
      ]
     },
     "metadata": {
      "needs_background": "light"
     },
     "output_type": "display_data"
    }
   ],
   "source": [
    "A = stats.norm.rvs(size=10000)\n",
    "B = stats.norm.rvs(size=10000)\n",
    "\n",
    "plt.hist(A/B,bins=100)\n",
    "plt.xlim(-10,10);"
   ]
  },
  {
   "cell_type": "code",
   "execution_count": null,
   "id": "8ff08e6e-82ce-47f9-a5df-61f6715b3a42",
   "metadata": {},
   "outputs": [],
   "source": []
  }
 ],
 "metadata": {
  "kernelspec": {
   "display_name": "Python 3",
   "language": "python",
   "name": "python3"
  },
  "language_info": {
   "codemirror_mode": {
    "name": "ipython",
    "version": 3
   },
   "file_extension": ".py",
   "mimetype": "text/x-python",
   "name": "python",
   "nbconvert_exporter": "python",
   "pygments_lexer": "ipython3",
   "version": "3.8.8"
  }
 },
 "nbformat": 4,
 "nbformat_minor": 5
}
