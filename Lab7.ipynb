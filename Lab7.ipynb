{
 "cells": [
  {
   "cell_type": "markdown",
   "id": "e9ca8caf-f8e6-4a29-9e80-56d3d43d1c3c",
   "metadata": {},
   "source": [
    "# Lab 7"
   ]
  },
  {
   "cell_type": "code",
   "execution_count": 1,
   "id": "20ab9bf0-74b2-4ca9-bb0d-6b4e3596eb93",
   "metadata": {},
   "outputs": [],
   "source": [
    "import numpy as np\n",
    "import matplotlib\n",
    "import matplotlib.pyplot as plt\n",
    "import scipy\n",
    "from scipy import stats\n",
    "from scipy import signal\n",
    "import pickle\n",
    "\n",
    "plt.rcParams[\"figure.figsize\"] = (15,10)\n"
   ]
  },
  {
   "cell_type": "code",
   "execution_count": 2,
   "id": "d540dcb7-f051-40dc-982b-54fe524ea132",
   "metadata": {},
   "outputs": [],
   "source": [
    "with open('/home/jovyan/LHC_Data/Training-Set-2/higgs_100000_pt_1000_1200.pkl', 'rb') as f:\n",
    "    higgs = pickle.load(f)\n",
    "with open('/home/jovyan/LHC_Data/Training-Set-2/qcd_100000_pt_1000_1200.pkl', 'rb') as f:\n",
    "    qcd = pickle.load(f)"
   ]
  },
  {
   "cell_type": "markdown",
   "id": "4a05bfa3-3853-41db-ab9b-fe9be0440b4b",
   "metadata": {},
   "source": [
    "# 1. Make a stacked histogram plot for the feature variable: mass"
   ]
  },
  {
   "cell_type": "code",
   "execution_count": 3,
   "id": "02766561-7aee-420f-9d3d-9078cc50a91e",
   "metadata": {},
   "outputs": [
    {
     "data": {
      "image/png": "[encoded data removed]",
      "text/plain": [
       "<Figure size 1080x720 with 1 Axes>"
      ]
     },
     "metadata": {
      "needs_background": "light"
     },
     "output_type": "display_data"
    }
   ],
   "source": [
    "plt.hist([qcd['mass'],higgs['mass']],stacked=True,bins=180,density = True, label = ['qcd','higgs'],alpha=0.7);\n",
    "plt.legend();"
   ]
  },
  {
   "cell_type": "markdown",
   "id": "6dbbf68a-7748-406a-b03a-6dc399eb6d22",
   "metadata": {},
   "source": [
    "## Evaluate expected significance without any event selection.\n",
    "### Use Poisson statistics for significance calculation:"
   ]
  },
  {
   "cell_type": "code",
   "execution_count": 4,
   "id": "ded51897-04f1-489e-899d-d6d53e6fa3a6",
   "metadata": {},
   "outputs": [],
   "source": [
    "n_qcd = 2000\n",
    "n_higgs = 50\n",
    "prob = stats.poisson.sf(n_qcd+n_higgs,mu=n_qcd)"
   ]
  },
  {
   "cell_type": "code",
   "execution_count": 5,
   "id": "b09d76d4-7780-4957-a464-c25c8a4c85ea",
   "metadata": {},
   "outputs": [
    {
     "data": {
      "text/plain": [
       "0.12961287455491954"
      ]
     },
     "execution_count": 5,
     "metadata": {},
     "output_type": "execute_result"
    }
   ],
   "source": [
    "prob"
   ]
  },
  {
   "cell_type": "code",
   "execution_count": 6,
   "id": "2193fd88-3db3-4670-ab26-065965d8ea8d",
   "metadata": {},
   "outputs": [
    {
     "data": {
      "text/plain": [
       "'this is a sigma value of 1.128'"
      ]
     },
     "execution_count": 6,
     "metadata": {},
     "output_type": "execute_result"
    }
   ],
   "source": [
    "f'this is a sigma value of {stats.norm.ppf(1-prob):.3f}'"
   ]
  },
  {
   "cell_type": "markdown",
   "id": "1c361269-d84d-42cd-b8b2-9cf99a0fbb72",
   "metadata": {},
   "source": [
    "Compare the exact significance to the approximation  $N_{Higgs}/(√N_{QCD})$ . If they are equivalent, explain your findings."
   ]
  },
  {
   "cell_type": "code",
   "execution_count": 7,
   "id": "8c7e66c4-aa9d-42ff-9592-cc4c61e757f3",
   "metadata": {},
   "outputs": [
    {
     "data": {
      "text/plain": [
       "1.118033988749895"
      ]
     },
     "execution_count": 7,
     "metadata": {},
     "output_type": "execute_result"
    }
   ],
   "source": [
    "n_higgs/np.sqrt(n_qcd)"
   ]
  },
  {
   "cell_type": "markdown",
   "id": "47e7b6dd-4af8-4706-af79-c616b8bc98f0",
   "metadata": {},
   "source": [
    "These are near equivalent"
   ]
  },
  {
   "cell_type": "markdown",
   "id": "5fe7ce2d-b9d1-4a9f-b9c2-3c2eaf9a396e",
   "metadata": {},
   "source": [
    "# 2. Identify mass cuts to optimize the expected significance.\n",
    "* Try different mass cuts systematically\n",
    "* Evaluate expected significance for each set of mass cuts\n",
    "* Identify the set of mass cuts which give you the highest significance."
   ]
  },
  {
   "cell_type": "code",
   "execution_count": 8,
   "id": "8aa89a9a-dbdf-4605-8b00-7f1746bc8a72",
   "metadata": {},
   "outputs": [
    {
     "data": {
      "text/plain": [
       "126.83836959704834"
      ]
     },
     "execution_count": 8,
     "metadata": {},
     "output_type": "execute_result"
    }
   ],
   "source": [
    "np.median(higgs['mass'])"
   ]
  },
  {
   "cell_type": "markdown",
   "id": "54880079-2e6c-4c21-aa31-66f34531b07a",
   "metadata": {},
   "source": [
    "Because the qcd histogram extends left and right of the higgs histogram, I will try cuts to the left and right of certain values. The following are a number of cuts I tried in a search for the best significance I could find:"
   ]
  },
  {
   "cell_type": "code",
   "execution_count": 9,
   "id": "281a5929-9776-4a4a-9948-9b061ffe20e8",
   "metadata": {},
   "outputs": [],
   "source": [
    "def make_cuts(cut,data = higgs):\n",
    "    tot_qcd = 0\n",
    "    tot_higgs = 0\n",
    "    for i in range(len(higgs)):\n",
    "\n",
    "        if cut[0] <= qcd['mass'][i] <= cut[1]:\n",
    "            tot_qcd += 1\n",
    "\n",
    "        if cut[0] <= higgs['mass'][i] <= cut[1]:\n",
    "            tot_higgs += 1\n",
    "\n",
    "    \n",
    "    count_qcd = tot_qcd * n_qcd/len(qcd)\n",
    "    count_higgs = tot_higgs * n_higgs/len(higgs) \n",
    "    \n",
    "    prob = stats.poisson.sf(count_qcd+count_higgs,mu=count_qcd)\n",
    "    sigma = stats.norm.ppf(1-prob)\n",
    "    \n",
    "    return count_qcd,count_higgs, sigma"
   ]
  },
  {
   "cell_type": "code",
   "execution_count": 10,
   "id": "75d9c645-e43a-4159-863f-96d01c1ff868",
   "metadata": {},
   "outputs": [],
   "source": [
    "#cuts in [min,max] mass values\n",
    "cuts = [[120,140],[124,132],[124,130],[125,128],[125,129],[125,130]]\n",
    "\n",
    "cut_data = []\n",
    "for cut in cuts:\n",
    "    data = make_cuts(cut)\n",
    "    cut_data.append(data)"
   ]
  },
  {
   "cell_type": "code",
   "execution_count": 11,
   "id": "7d3a5d7a-9199-4795-a864-0c4819bbe9e0",
   "metadata": {},
   "outputs": [
    {
     "name": "stdout",
     "output_type": "stream",
     "text": [
      "for cutting between 120 and 140 we have a significance of 2.906548157224342\n",
      "for cutting between 124 and 132 we have a significance of 3.8533187375186038\n",
      "for cutting between 124 and 130 we have a significance of 3.993622369521206\n",
      "for cutting between 125 and 128 we have a significance of 3.990881171379639\n",
      "for cutting between 125 and 129 we have a significance of 4.020574470625383\n",
      "for cutting between 125 and 130 we have a significance of 3.971424931588165\n"
     ]
    }
   ],
   "source": [
    "for i in range(len(cuts)):\n",
    "    print(f'for cutting between {cuts[i][0]} and {cuts[i][1]} we have a significance of {cut_data[i][2]}')"
   ]
  },
  {
   "cell_type": "code",
   "execution_count": 12,
   "id": "2433f5cf-5132-4951-9370-83c9f888aa6a",
   "metadata": {},
   "outputs": [
    {
     "data": {
      "image/png": "[encoded data removed]",
      "text/plain": [
       "<Figure size 1080x720 with 1 Axes>"
      ]
     },
     "metadata": {
      "needs_background": "light"
     },
     "output_type": "display_data"
    }
   ],
   "source": [
    "plt.hist(higgs['mass'],bins=150,density=True)\n",
    "plt.xlim(110,150)\n",
    "plt.vlines([125,129],0,0.175,colors='r');"
   ]
  },
  {
   "cell_type": "markdown",
   "id": "3f9ca470-8074-4d87-8dd0-a50465be96df",
   "metadata": {},
   "source": [
    "# 2. make two sets of stacked histogram plots for the rest of the features\n",
    "\n",
    "* Set A without any event selection\n",
    "* Set B with your optimal mass cuts\n"
   ]
  },
  {
   "cell_type": "code",
   "execution_count": 13,
   "id": "86261c63-861f-4b40-8802-c2de1a22836e",
   "metadata": {},
   "outputs": [
    {
     "data": {
      "text/html": [
       "<div>\n",
       "<style scoped>\n",
       "    .dataframe tbody tr th:only-of-type {\n",
       "        vertical-align: middle;\n",
       "    }\n",
       "\n",
       "    .dataframe tbody tr th {\n",
       "        vertical-align: top;\n",
       "    }\n",
       "\n",
       "    .dataframe thead th {\n",
       "        text-align: right;\n",
       "    }\n",
       "</style>\n",
       "<table border=\"1\" class=\"dataframe\">\n",
       "  <thead>\n",
       "    <tr style=\"text-align: right;\">\n",
       "      <th></th>\n",
       "      <th>pt</th>\n",
       "      <th>eta</th>\n",
       "      <th>phi</th>\n",
       "      <th>mass</th>\n",
       "      <th>ee2</th>\n",
       "      <th>ee3</th>\n",
       "      <th>d2</th>\n",
       "      <th>angularity</th>\n",
       "      <th>t1</th>\n",
       "      <th>t2</th>\n",
       "      <th>t3</th>\n",
       "      <th>t21</th>\n",
       "      <th>t32</th>\n",
       "      <th>KtDeltaR</th>\n",
       "    </tr>\n",
       "  </thead>\n",
       "  <tbody>\n",
       "    <tr>\n",
       "      <th>0</th>\n",
       "      <td>1034.181543</td>\n",
       "      <td>1.193191</td>\n",
       "      <td>2.942234</td>\n",
       "      <td>272.010881</td>\n",
       "      <td>0.102485</td>\n",
       "      <td>0.003492</td>\n",
       "      <td>3.244343</td>\n",
       "      <td>0.006256</td>\n",
       "      <td>0.961697</td>\n",
       "      <td>0.598986</td>\n",
       "      <td>0.425024</td>\n",
       "      <td>0.622843</td>\n",
       "      <td>0.709573</td>\n",
       "      <td>0.082995</td>\n",
       "    </tr>\n",
       "    <tr>\n",
       "      <th>1</th>\n",
       "      <td>1125.535509</td>\n",
       "      <td>-1.833090</td>\n",
       "      <td>0.121390</td>\n",
       "      <td>139.794408</td>\n",
       "      <td>0.035430</td>\n",
       "      <td>0.000288</td>\n",
       "      <td>6.481473</td>\n",
       "      <td>0.000155</td>\n",
       "      <td>0.896003</td>\n",
       "      <td>0.633385</td>\n",
       "      <td>0.476566</td>\n",
       "      <td>0.706900</td>\n",
       "      <td>0.752412</td>\n",
       "      <td>0.439346</td>\n",
       "    </tr>\n",
       "    <tr>\n",
       "      <th>2</th>\n",
       "      <td>1099.223087</td>\n",
       "      <td>0.557867</td>\n",
       "      <td>-1.238027</td>\n",
       "      <td>245.413146</td>\n",
       "      <td>0.099080</td>\n",
       "      <td>0.002563</td>\n",
       "      <td>2.634788</td>\n",
       "      <td>0.005682</td>\n",
       "      <td>0.861678</td>\n",
       "      <td>0.486505</td>\n",
       "      <td>0.264631</td>\n",
       "      <td>0.564602</td>\n",
       "      <td>0.543942</td>\n",
       "      <td>0.251453</td>\n",
       "    </tr>\n",
       "    <tr>\n",
       "      <th>3</th>\n",
       "      <td>1118.230032</td>\n",
       "      <td>1.505473</td>\n",
       "      <td>1.953123</td>\n",
       "      <td>89.975916</td>\n",
       "      <td>0.017950</td>\n",
       "      <td>0.000077</td>\n",
       "      <td>13.389845</td>\n",
       "      <td>0.000432</td>\n",
       "      <td>0.952917</td>\n",
       "      <td>0.856141</td>\n",
       "      <td>0.730438</td>\n",
       "      <td>0.898442</td>\n",
       "      <td>0.853175</td>\n",
       "      <td>0.121666</td>\n",
       "    </tr>\n",
       "    <tr>\n",
       "      <th>4</th>\n",
       "      <td>1059.907996</td>\n",
       "      <td>-0.387179</td>\n",
       "      <td>-1.064832</td>\n",
       "      <td>85.893956</td>\n",
       "      <td>0.018515</td>\n",
       "      <td>0.000072</td>\n",
       "      <td>11.342156</td>\n",
       "      <td>0.002575</td>\n",
       "      <td>0.868770</td>\n",
       "      <td>0.645362</td>\n",
       "      <td>0.484853</td>\n",
       "      <td>0.742845</td>\n",
       "      <td>0.751289</td>\n",
       "      <td>0.386788</td>\n",
       "    </tr>\n",
       "    <tr>\n",
       "      <th>...</th>\n",
       "      <td>...</td>\n",
       "      <td>...</td>\n",
       "      <td>...</td>\n",
       "      <td>...</td>\n",
       "      <td>...</td>\n",
       "      <td>...</td>\n",
       "      <td>...</td>\n",
       "      <td>...</td>\n",
       "      <td>...</td>\n",
       "      <td>...</td>\n",
       "      <td>...</td>\n",
       "      <td>...</td>\n",
       "      <td>...</td>\n",
       "      <td>...</td>\n",
       "    </tr>\n",
       "    <tr>\n",
       "      <th>99995</th>\n",
       "      <td>1185.924965</td>\n",
       "      <td>-1.282700</td>\n",
       "      <td>-2.203558</td>\n",
       "      <td>178.917178</td>\n",
       "      <td>0.051779</td>\n",
       "      <td>0.000606</td>\n",
       "      <td>4.368135</td>\n",
       "      <td>0.000900</td>\n",
       "      <td>0.671057</td>\n",
       "      <td>0.294523</td>\n",
       "      <td>0.255893</td>\n",
       "      <td>0.438894</td>\n",
       "      <td>0.868838</td>\n",
       "      <td>0.282015</td>\n",
       "    </tr>\n",
       "    <tr>\n",
       "      <th>99996</th>\n",
       "      <td>1070.385446</td>\n",
       "      <td>-0.762397</td>\n",
       "      <td>-2.405166</td>\n",
       "      <td>143.872351</td>\n",
       "      <td>0.032136</td>\n",
       "      <td>0.000224</td>\n",
       "      <td>6.749812</td>\n",
       "      <td>0.002829</td>\n",
       "      <td>0.718651</td>\n",
       "      <td>0.293553</td>\n",
       "      <td>0.268076</td>\n",
       "      <td>0.408478</td>\n",
       "      <td>0.913209</td>\n",
       "      <td>0.261662</td>\n",
       "    </tr>\n",
       "    <tr>\n",
       "      <th>99997</th>\n",
       "      <td>1116.722590</td>\n",
       "      <td>-0.166511</td>\n",
       "      <td>-1.141038</td>\n",
       "      <td>118.185074</td>\n",
       "      <td>0.049617</td>\n",
       "      <td>0.000331</td>\n",
       "      <td>2.712970</td>\n",
       "      <td>0.002456</td>\n",
       "      <td>0.859900</td>\n",
       "      <td>0.642900</td>\n",
       "      <td>0.456476</td>\n",
       "      <td>0.747645</td>\n",
       "      <td>0.710027</td>\n",
       "      <td>0.147913</td>\n",
       "    </tr>\n",
       "    <tr>\n",
       "      <th>99998</th>\n",
       "      <td>1147.609045</td>\n",
       "      <td>0.405501</td>\n",
       "      <td>-1.125710</td>\n",
       "      <td>292.925318</td>\n",
       "      <td>0.129771</td>\n",
       "      <td>0.004310</td>\n",
       "      <td>1.972101</td>\n",
       "      <td>0.005786</td>\n",
       "      <td>0.930685</td>\n",
       "      <td>0.672938</td>\n",
       "      <td>0.361115</td>\n",
       "      <td>0.723057</td>\n",
       "      <td>0.536624</td>\n",
       "      <td>0.567817</td>\n",
       "    </tr>\n",
       "    <tr>\n",
       "      <th>99999</th>\n",
       "      <td>1137.912157</td>\n",
       "      <td>0.549714</td>\n",
       "      <td>-1.934638</td>\n",
       "      <td>135.473349</td>\n",
       "      <td>0.020866</td>\n",
       "      <td>0.000163</td>\n",
       "      <td>17.887665</td>\n",
       "      <td>0.005031</td>\n",
       "      <td>1.137163</td>\n",
       "      <td>0.926213</td>\n",
       "      <td>0.904575</td>\n",
       "      <td>0.814495</td>\n",
       "      <td>0.976638</td>\n",
       "      <td>0.603431</td>\n",
       "    </tr>\n",
       "  </tbody>\n",
       "</table>\n",
       "<p>100000 rows × 14 columns</p>\n",
       "</div>"
      ],
      "text/plain": [
       "                pt       eta       phi        mass       ee2       ee3  \\\n",
       "0      1034.181543  1.193191  2.942234  272.010881  0.102485  0.003492   \n",
       "1      1125.535509 -1.833090  0.121390  139.794408  0.035430  0.000288   \n",
       "2      1099.223087  0.557867 -1.238027  245.413146  0.099080  0.002563   \n",
       "3      1118.230032  1.505473  1.953123   89.975916  0.017950  0.000077   \n",
       "4      1059.907996 -0.387179 -1.064832   85.893956  0.018515  0.000072   \n",
       "...            ...       ...       ...         ...       ...       ...   \n",
       "99995  1185.924965 -1.282700 -2.203558  178.917178  0.051779  0.000606   \n",
       "99996  1070.385446 -0.762397 -2.405166  143.872351  0.032136  0.000224   \n",
       "99997  1116.722590 -0.166511 -1.141038  118.185074  0.049617  0.000331   \n",
       "99998  1147.609045  0.405501 -1.125710  292.925318  0.129771  0.004310   \n",
       "99999  1137.912157  0.549714 -1.934638  135.473349  0.020866  0.000163   \n",
       "\n",
       "              d2  angularity        t1        t2        t3       t21  \\\n",
       "0       3.244343    0.006256  0.961697  0.598986  0.425024  0.622843   \n",
       "1       6.481473    0.000155  0.896003  0.633385  0.476566  0.706900   \n",
       "2       2.634788    0.005682  0.861678  0.486505  0.264631  0.564602   \n",
       "3      13.389845    0.000432  0.952917  0.856141  0.730438  0.898442   \n",
       "4      11.342156    0.002575  0.868770  0.645362  0.484853  0.742845   \n",
       "...          ...         ...       ...       ...       ...       ...   \n",
       "99995   4.368135    0.000900  0.671057  0.294523  0.255893  0.438894   \n",
       "99996   6.749812    0.002829  0.718651  0.293553  0.268076  0.408478   \n",
       "99997   2.712970    0.002456  0.859900  0.642900  0.456476  0.747645   \n",
       "99998   1.972101    0.005786  0.930685  0.672938  0.361115  0.723057   \n",
       "99999  17.887665    0.005031  1.137163  0.926213  0.904575  0.814495   \n",
       "\n",
       "            t32  KtDeltaR  \n",
       "0      0.709573  0.082995  \n",
       "1      0.752412  0.439346  \n",
       "2      0.543942  0.251453  \n",
       "3      0.853175  0.121666  \n",
       "4      0.751289  0.386788  \n",
       "...         ...       ...  \n",
       "99995  0.868838  0.282015  \n",
       "99996  0.913209  0.261662  \n",
       "99997  0.710027  0.147913  \n",
       "99998  0.536624  0.567817  \n",
       "99999  0.976638  0.603431  \n",
       "\n",
       "[100000 rows x 14 columns]"
      ]
     },
     "execution_count": 13,
     "metadata": {},
     "output_type": "execute_result"
    }
   ],
   "source": [
    "qcd"
   ]
  },
  {
   "cell_type": "code",
   "execution_count": 14,
   "id": "560f960d-b340-4810-b35b-3b0061b792e5",
   "metadata": {},
   "outputs": [
    {
     "data": {
      "text/plain": [
       "<bound method NDFrame.keys of                 pt       eta       phi        mass       ee2       ee3  \\\n",
       "0      1034.181543  1.193191  2.942234  272.010881  0.102485  0.003492   \n",
       "1      1125.535509 -1.833090  0.121390  139.794408  0.035430  0.000288   \n",
       "2      1099.223087  0.557867 -1.238027  245.413146  0.099080  0.002563   \n",
       "3      1118.230032  1.505473  1.953123   89.975916  0.017950  0.000077   \n",
       "4      1059.907996 -0.387179 -1.064832   85.893956  0.018515  0.000072   \n",
       "...            ...       ...       ...         ...       ...       ...   \n",
       "99995  1185.924965 -1.282700 -2.203558  178.917178  0.051779  0.000606   \n",
       "99996  1070.385446 -0.762397 -2.405166  143.872351  0.032136  0.000224   \n",
       "99997  1116.722590 -0.166511 -1.141038  118.185074  0.049617  0.000331   \n",
       "99998  1147.609045  0.405501 -1.125710  292.925318  0.129771  0.004310   \n",
       "99999  1137.912157  0.549714 -1.934638  135.473349  0.020866  0.000163   \n",
       "\n",
       "              d2  angularity        t1        t2        t3       t21  \\\n",
       "0       3.244343    0.006256  0.961697  0.598986  0.425024  0.622843   \n",
       "1       6.481473    0.000155  0.896003  0.633385  0.476566  0.706900   \n",
       "2       2.634788    0.005682  0.861678  0.486505  0.264631  0.564602   \n",
       "3      13.389845    0.000432  0.952917  0.856141  0.730438  0.898442   \n",
       "4      11.342156    0.002575  0.868770  0.645362  0.484853  0.742845   \n",
       "...          ...         ...       ...       ...       ...       ...   \n",
       "99995   4.368135    0.000900  0.671057  0.294523  0.255893  0.438894   \n",
       "99996   6.749812    0.002829  0.718651  0.293553  0.268076  0.408478   \n",
       "99997   2.712970    0.002456  0.859900  0.642900  0.456476  0.747645   \n",
       "99998   1.972101    0.005786  0.930685  0.672938  0.361115  0.723057   \n",
       "99999  17.887665    0.005031  1.137163  0.926213  0.904575  0.814495   \n",
       "\n",
       "            t32  KtDeltaR  \n",
       "0      0.709573  0.082995  \n",
       "1      0.752412  0.439346  \n",
       "2      0.543942  0.251453  \n",
       "3      0.853175  0.121666  \n",
       "4      0.751289  0.386788  \n",
       "...         ...       ...  \n",
       "99995  0.868838  0.282015  \n",
       "99996  0.913209  0.261662  \n",
       "99997  0.710027  0.147913  \n",
       "99998  0.536624  0.567817  \n",
       "99999  0.976638  0.603431  \n",
       "\n",
       "[100000 rows x 14 columns]>"
      ]
     },
     "execution_count": 14,
     "metadata": {},
     "output_type": "execute_result"
    }
   ],
   "source": [
    "qcd.keys"
   ]
  },
  {
   "cell_type": "code",
   "execution_count": 16,
   "id": "8848d00f-8d94-4e82-8eec-1b7eca062168",
   "metadata": {},
   "outputs": [],
   "source": [
    "higgs_cut = higgs.query('125<mass<129')    \n",
    "higgs_cut = higgs_cut.reindex(range(len(higgs_cut)))\n",
    "\n",
    "qcd_cut = qcd.query('125<mass<129')\n",
    "qcd_cut = qcd_cut.reindex(range(len(qcd_cut)))\n"
   ]
  },
  {
   "cell_type": "code",
   "execution_count": 17,
   "id": "00f358de-5d31-4689-80ec-6c435999c615",
   "metadata": {},
   "outputs": [],
   "source": [
    "plt.rcParams[\"figure.figsize\"] = (20,10)\n",
    "\n",
    "def get_indices():\n",
    "    higgs_cuts = np.where(higgs['mass'] > cut[0] & higgs['mass'] > cut[1])\n",
    "\n",
    "\n",
    "def plot_features():\n",
    "    \n",
    "    fig, ax = plt.subplots(1, 2)\n",
    "    \n",
    "    \n",
    "    \n",
    "    ax[0].hist([qcd[feature],higgs[feature]],stacked=True,bins=180,density = True, label = ['qcd','higgs'],alpha=0.7);\n",
    "    ax[0].legend();\n",
    "    "
   ]
  },
  {
   "cell_type": "code",
   "execution_count": 18,
   "id": "51420e5b-6801-4a41-9335-248a58d9cb70",
   "metadata": {},
   "outputs": [
    {
     "ename": "NameError",
     "evalue": "name 'feature' is not defined",
     "output_type": "error",
     "traceback": [
      "\u001b[0;31m---------------------------------------------------------------------------\u001b[0m",
      "\u001b[0;31mNameError\u001b[0m                                 Traceback (most recent call last)",
      "\u001b[0;32m<ipython-input-18-3503bafc8802>\u001b[0m in \u001b[0;36m<module>\u001b[0;34m\u001b[0m\n\u001b[0;32m----> 1\u001b[0;31m \u001b[0mplot_features\u001b[0m\u001b[0;34m(\u001b[0m\u001b[0;34m)\u001b[0m\u001b[0;34m\u001b[0m\u001b[0;34m\u001b[0m\u001b[0m\n\u001b[0m",
      "\u001b[0;32m<ipython-input-17-01b95fb3028d>\u001b[0m in \u001b[0;36mplot_features\u001b[0;34m()\u001b[0m\n\u001b[1;32m     11\u001b[0m \u001b[0;34m\u001b[0m\u001b[0m\n\u001b[1;32m     12\u001b[0m \u001b[0;34m\u001b[0m\u001b[0m\n\u001b[0;32m---> 13\u001b[0;31m     \u001b[0max\u001b[0m\u001b[0;34m[\u001b[0m\u001b[0;36m0\u001b[0m\u001b[0;34m]\u001b[0m\u001b[0;34m.\u001b[0m\u001b[0mhist\u001b[0m\u001b[0;34m(\u001b[0m\u001b[0;34m[\u001b[0m\u001b[0mqcd\u001b[0m\u001b[0;34m[\u001b[0m\u001b[0mfeature\u001b[0m\u001b[0;34m]\u001b[0m\u001b[0;34m,\u001b[0m\u001b[0mhiggs\u001b[0m\u001b[0;34m[\u001b[0m\u001b[0mfeature\u001b[0m\u001b[0;34m]\u001b[0m\u001b[0;34m]\u001b[0m\u001b[0;34m,\u001b[0m\u001b[0mstacked\u001b[0m\u001b[0;34m=\u001b[0m\u001b[0;32mTrue\u001b[0m\u001b[0;34m,\u001b[0m\u001b[0mbins\u001b[0m\u001b[0;34m=\u001b[0m\u001b[0;36m180\u001b[0m\u001b[0;34m,\u001b[0m\u001b[0mdensity\u001b[0m \u001b[0;34m=\u001b[0m \u001b[0;32mTrue\u001b[0m\u001b[0;34m,\u001b[0m \u001b[0mlabel\u001b[0m \u001b[0;34m=\u001b[0m \u001b[0;34m[\u001b[0m\u001b[0;34m'qcd'\u001b[0m\u001b[0;34m,\u001b[0m\u001b[0;34m'higgs'\u001b[0m\u001b[0;34m]\u001b[0m\u001b[0;34m,\u001b[0m\u001b[0malpha\u001b[0m\u001b[0;34m=\u001b[0m\u001b[0;36m0.7\u001b[0m\u001b[0;34m)\u001b[0m\u001b[0;34m;\u001b[0m\u001b[0;34m\u001b[0m\u001b[0;34m\u001b[0m\u001b[0m\n\u001b[0m\u001b[1;32m     14\u001b[0m     \u001b[0max\u001b[0m\u001b[0;34m[\u001b[0m\u001b[0;36m0\u001b[0m\u001b[0;34m]\u001b[0m\u001b[0;34m.\u001b[0m\u001b[0mlegend\u001b[0m\u001b[0;34m(\u001b[0m\u001b[0;34m)\u001b[0m\u001b[0;34m;\u001b[0m\u001b[0;34m\u001b[0m\u001b[0;34m\u001b[0m\u001b[0m\n\u001b[1;32m     15\u001b[0m \u001b[0;34m\u001b[0m\u001b[0m\n",
      "\u001b[0;31mNameError\u001b[0m: name 'feature' is not defined"
     ]
    },
    {
     "data": {
      "image/png": "[encoded data removed]",
      "text/plain": [
       "<Figure size 1440x720 with 2 Axes>"
      ]
     },
     "metadata": {
      "needs_background": "light"
     },
     "output_type": "display_data"
    }
   ],
   "source": [
    "plot_features()"
   ]
  },
  {
   "cell_type": "code",
   "execution_count": 19,
   "id": "6a584def-9a46-4371-b883-e3562ef29fe7",
   "metadata": {},
   "outputs": [],
   "source": [
    "def get_indices(cut):\n",
    "    higgs_cuts = np.where((higgs['mass'] > cut[0]) & (higgs['mass'] > cut[1]),)\n",
    "    return higgs_cuts"
   ]
  },
  {
   "cell_type": "code",
   "execution_count": 20,
   "id": "76c7ed82-f472-450f-acff-2015d5454b67",
   "metadata": {},
   "outputs": [
    {
     "data": {
      "text/plain": [
       "(array([    0,     1,     2, ..., 99996, 99997, 99998]),)"
      ]
     },
     "execution_count": 20,
     "metadata": {},
     "output_type": "execute_result"
    }
   ],
   "source": [
    "get_indices([124,125])"
   ]
  },
  {
   "cell_type": "code",
   "execution_count": 21,
   "id": "d6bab174-521e-4bb9-98e0-373f502f7545",
   "metadata": {},
   "outputs": [],
   "source": [
    "if np.nan > 0:\n",
    "    print('yes')"
   ]
  },
  {
   "cell_type": "code",
   "execution_count": 35,
   "id": "e8a7dd38-9b6f-4c36-b6b4-09937379afc2",
   "metadata": {},
   "outputs": [],
   "source": [
    "tot_qcd = 0\n",
    "for i in range(len(higgs)):\n",
    "    if 125 <= float(qcd['mass'][i]) <= 129:\n",
    "            tot_qcd += 1"
   ]
  },
  {
   "cell_type": "code",
   "execution_count": 30,
   "id": "d8e7251f-5e11-4c7d-9e3f-182af5378934",
   "metadata": {},
   "outputs": [
    {
     "data": {
      "text/plain": [
       "2526"
      ]
     },
     "execution_count": 30,
     "metadata": {},
     "output_type": "execute_result"
    }
   ],
   "source": [
    "tot_qcd"
   ]
  },
  {
   "cell_type": "code",
   "execution_count": 37,
   "id": "f6a97159-4153-4b46-a815-09b5fbdb6dc1",
   "metadata": {},
   "outputs": [
    {
     "data": {
      "text/plain": [
       "0      NaN\n",
       "1      NaN\n",
       "2      NaN\n",
       "3      NaN\n",
       "4      NaN\n",
       "        ..\n",
       "2521   NaN\n",
       "2522   NaN\n",
       "2523   NaN\n",
       "2524   NaN\n",
       "2525   NaN\n",
       "Name: mass, Length: 2526, dtype: float64"
      ]
     },
     "execution_count": 37,
     "metadata": {},
     "output_type": "execute_result"
    }
   ],
   "source": [
    "qcd_cut = qcd.query('125<mass<129')\n",
    "qcd_cut = qcd_cut.reindex(range(len(qcd_cut)))\n",
    "qcd_cut['mass']"
   ]
  },
  {
   "cell_type": "code",
   "execution_count": 32,
   "id": "910e7eb2-27be-41de-9808-f8382d547355",
   "metadata": {},
   "outputs": [],
   "source": [
    "tot_qcd = 0\n",
    "for i in range(len(qcd_cut)):\n",
    "    if 125 <= qcd_cut['mass'][i] <= 129:\n",
    "            tot_qcd += 1"
   ]
  },
  {
   "cell_type": "code",
   "execution_count": 33,
   "id": "4a753e92-49fa-4007-bd4e-970bfca8ed56",
   "metadata": {},
   "outputs": [
    {
     "data": {
      "text/plain": [
       "69"
      ]
     },
     "execution_count": 33,
     "metadata": {},
     "output_type": "execute_result"
    }
   ],
   "source": [
    "tot_qcd"
   ]
  },
  {
   "cell_type": "code",
   "execution_count": null,
   "id": "7658b234-4a29-4f5d-bb90-f596507ca2ad",
   "metadata": {},
   "outputs": [],
   "source": []
  },
  {
   "cell_type": "code",
   "execution_count": null,
   "id": "70254f70-8b0f-4493-8691-a7b2ac7b1ed0",
   "metadata": {},
   "outputs": [],
   "source": []
  },
  {
   "cell_type": "code",
   "execution_count": null,
   "id": "076db656-6ac6-4c26-829e-9e25b2b8f616",
   "metadata": {},
   "outputs": [],
   "source": []
  },
  {
   "cell_type": "code",
   "execution_count": null,
   "id": "f15c84f4-9fbe-4d3a-b807-e1fd9369b124",
   "metadata": {},
   "outputs": [],
   "source": []
  }
 ],
 "metadata": {
  "kernelspec": {
   "display_name": "Python 3",
   "language": "python",
   "name": "python3"
  },
  "language_info": {
   "codemirror_mode": {
    "name": "ipython",
    "version": 3
   },
   "file_extension": ".py",
   "mimetype": "text/x-python",
   "name": "python",
   "nbconvert_exporter": "python",
   "pygments_lexer": "ipython3",
   "version": "3.8.8"
  }
 },
 "nbformat": 4,
 "nbformat_minor": 5
}
