{
 "cells": [
  {
   "cell_type": "code",
   "execution_count": 1,
   "id": "039cb40d-2841-4285-8b5c-72cf8a676fd4",
   "metadata": {},
   "outputs": [],
   "source": [
    "import numpy as np\n",
    "import matplotlib\n",
    "import matplotlib.pyplot as plt\n",
    "import scipy\n",
    "from scipy import stats"
   ]
  },
  {
   "cell_type": "markdown",
   "id": "57b620ca-e283-4bd8-b3b4-c66219f4a777",
   "metadata": {},
   "source": [
    "### 1)\n",
    "A little introductory brain teaser. Which is more probable when rolling 2 six-sided dice: rolling snake eyes (two ones) or rolling sevens (dice sum to seven)? What is the ratio of the probabilities?\n",
    "\n",
    "### Ans:\n",
    "Rolling sevens is more likely. This is because there is only 1 way to roll snake eyes -- rolling a 1 on both dice. While there are 6 ways of rolling sevens (1 + 6, 2 + 5, 3 + 4, 4 + 3, 5 + 2, 6 + 1). This corresponds to 1/36 probability for snake eyes, and 6/36 probability for sevens."
   ]
  },
  {
   "cell_type": "markdown",
   "id": "ec359896-ae77-4d5c-aa3a-7b6c1a551e4c",
   "metadata": {},
   "source": [
    "### 2) \n",
    "Following what we did in class show how to use the convolution operator to determine the probability of the sum of 2 six sided dice. Do both analytically (math & counting) and numerically (computer program). Beware the implicit definition of the values (x-axis on histogram)."
   ]
  },
  {
   "cell_type": "code",
   "execution_count": 2,
   "id": "6f5ad426-d8c6-4a38-8b59-4ed48e96b7ff",
   "metadata": {},
   "outputs": [],
   "source": [
    "dice = [1/6 for a in range(6)]"
   ]
  },
  {
   "cell_type": "code",
   "execution_count": 3,
   "id": "4ca0feaf-f973-4710-90e0-f5138f9daddf",
   "metadata": {},
   "outputs": [],
   "source": [
    "convolution = np.convolve(dice,dice,mode='full')"
   ]
  },
  {
   "cell_type": "code",
   "execution_count": 4,
   "id": "222482b6-f4b7-43c6-ac8c-76d3290c0bf4",
   "metadata": {},
   "outputs": [
    {
     "data": {
      "text/plain": [
       "array([0.02777778, 0.05555556, 0.08333333, 0.11111111, 0.13888889,\n",
       "       0.16666667, 0.13888889, 0.11111111, 0.08333333, 0.05555556,\n",
       "       0.02777778])"
      ]
     },
     "execution_count": 4,
     "metadata": {},
     "output_type": "execute_result"
    }
   ],
   "source": [
    "convolution"
   ]
  },
  {
   "cell_type": "code",
   "execution_count": 5,
   "id": "9337aac9-6708-4c0a-ab15-50f51583beb3",
   "metadata": {},
   "outputs": [
    {
     "data": {
      "text/plain": [
       "[<matplotlib.lines.Line2D at 0x7fa69fe85640>]"
      ]
     },
     "execution_count": 5,
     "metadata": {},
     "output_type": "execute_result"
    },
    {
     "data": {
      "image/png": "[encoded data removed]",
      "text/plain": [
       "<Figure size 1080x720 with 1 Axes>"
      ]
     },
     "metadata": {
      "needs_background": "light"
     },
     "output_type": "display_data"
    }
   ],
   "source": [
    "plt.rcParams[\"figure.figsize\"] = (15,10)\n",
    "fig, ax = plt.subplots(1, 1)\n",
    "plt.tick_params(labelsize = 10)\n",
    "\n",
    "x = np.linspace(2,12,11)\n",
    "plt.step(x,convolution,where='mid')"
   ]
  },
  {
   "cell_type": "markdown",
   "id": "44c1c157-160c-4bc2-abd5-fe391d5c8560",
   "metadata": {},
   "source": [
    "### 3) \n",
    "Calculate the mean and the variance of the distribution in problem 2. Hint: this is surprisingly tricky, make sure your result makes sense.\n",
    "\n"
   ]
  },
  {
   "cell_type": "code",
   "execution_count": 6,
   "id": "e47cfc4c-8bc7-4b92-8d03-0a2ff22efae5",
   "metadata": {},
   "outputs": [
    {
     "data": {
      "text/plain": [
       "7.0"
      ]
     },
     "execution_count": 6,
     "metadata": {},
     "output_type": "execute_result"
    }
   ],
   "source": [
    "mean = 0\n",
    "for a in range(len(x)):\n",
    "    mean += convolution[a] * x[a]\n",
    "    \n",
    "mean"
   ]
  },
  {
   "cell_type": "markdown",
   "id": "35312d7d-f21c-4563-b3be-8b2595a5b511",
   "metadata": {},
   "source": [
    "For variance:\n",
    " \n",
    "$$ \\large{\\sigma^2 = {\\sum_{n=i}^{N}(x_i - \\bar{x})* p(x_i)}}$$"
   ]
  },
  {
   "cell_type": "code",
   "execution_count": 7,
   "id": "81a13d05-5e65-419e-ac48-aea97ebc7fb8",
   "metadata": {},
   "outputs": [
    {
     "data": {
      "text/plain": [
       "5.833333333333334"
      ]
     },
     "execution_count": 7,
     "metadata": {},
     "output_type": "execute_result"
    }
   ],
   "source": [
    "variance = 0\n",
    "for a in range(len(x)):\n",
    "    variance += (x[a] - mean)**2 * convolution[a]\n",
    "\n",
    "variance"
   ]
  },
  {
   "cell_type": "code",
   "execution_count": null,
   "id": "fc24f6db-f1f2-4812-85d2-caf566edac3d",
   "metadata": {},
   "outputs": [],
   "source": []
  },
  {
   "cell_type": "markdown",
   "id": "8605af74-bf74-4d45-9702-481bcb58669d",
   "metadata": {},
   "source": [
    "### 4) \n",
    "Repeat 2, and graph the average of 10 dice. Is this is a Gaussian distribution? Explain in depth.\n",
    "\n"
   ]
  },
  {
   "cell_type": "code",
   "execution_count": 19,
   "id": "cb9ae077-becc-4fde-89e4-2cd742fdbe2e",
   "metadata": {},
   "outputs": [],
   "source": [
    "repetitions = 10\n",
    "dice = [1/6 for a in range(6)]\n",
    "\n",
    "for a in range(repetitions-1):\n",
    "    if a == 0:\n",
    "        convolution2 = np.convolve(dice,dice)\n",
    "    else:\n",
    "        convolution2 = np.convolve(dice,convolution2)"
   ]
  },
  {
   "cell_type": "code",
   "execution_count": 20,
   "id": "0b0b1511-163d-4a8b-8979-5925dce8fa05",
   "metadata": {},
   "outputs": [
    {
     "data": {
      "text/plain": [
       "array([1.65381717e-08, 1.65381717e-07, 9.09599443e-07, 3.63839777e-06,\n",
       "       1.18247928e-05, 3.31094197e-05, 8.26081676e-05, 1.87542867e-04,\n",
       "       3.92946959e-04, 7.67701930e-04, 1.40951530e-03, 2.44665712e-03,\n",
       "       4.03407353e-03, 6.34189270e-03, 9.53533096e-03, 1.37465945e-02,\n",
       "       1.90415547e-02, 2.53867551e-02, 3.26236936e-02, 4.04573294e-02,\n",
       "       4.84643679e-02, 5.61241048e-02, 6.28704385e-02, 6.81581055e-02,\n",
       "       7.15327194e-02, 7.26928060e-02, 7.15327194e-02, 6.81581055e-02,\n",
       "       6.28704385e-02, 5.61241048e-02, 4.84643679e-02, 4.04573294e-02,\n",
       "       3.26236936e-02, 2.53867551e-02, 1.90415547e-02, 1.37465945e-02,\n",
       "       9.53533096e-03, 6.34189270e-03, 4.03407353e-03, 2.44665712e-03,\n",
       "       1.40951530e-03, 7.67701930e-04, 3.92946959e-04, 1.87542867e-04,\n",
       "       8.26081676e-05, 3.31094197e-05, 1.18247928e-05, 3.63839777e-06,\n",
       "       9.09599443e-07, 1.65381717e-07, 1.65381717e-08])"
      ]
     },
     "execution_count": 20,
     "metadata": {},
     "output_type": "execute_result"
    }
   ],
   "source": [
    "convolution2"
   ]
  },
  {
   "cell_type": "code",
   "execution_count": 31,
   "id": "92be6a95-b50d-47ab-9053-df6a38ef869f",
   "metadata": {},
   "outputs": [
    {
     "data": {
      "text/plain": [
       "[<matplotlib.lines.Line2D at 0x7fa69fd6ed30>]"
      ]
     },
     "execution_count": 31,
     "metadata": {},
     "output_type": "execute_result"
    },
    {
     "data": {
      "image/png": "[encoded data removed]",
      "text/plain": [
       "<Figure size 1080x720 with 1 Axes>"
      ]
     },
     "metadata": {},
     "output_type": "display_data"
    }
   ],
   "source": [
    "plt.style.use('ggplot')\n",
    "\n",
    "plt.rcParams[\"figure.figsize\"] = (15,10)\n",
    "fig, ax = plt.subplots(1, 1)\n",
    "plt.tick_params(labelsize = 10)\n",
    "\n",
    "x = np.linspace(10,60,51)\n",
    "plt.step(x/10,convolution2,where='mid')\n",
    "#plt.vlines(35,0,max(convolution2)*1.05,linestyles = 'dashed',colors='r')"
   ]
  },
  {
   "cell_type": "markdown",
   "id": "968e98e2-5c59-4636-8447-ae356cfd728a",
   "metadata": {},
   "source": [
    "### 5) \n",
    "Show that the sum and average of an initially Gaussian distribution is also a Guassian (can be analytic or numerical). How does the standard deviation of the resulting sum or average Guassian change? This is a hugely important result. Explore what this means for integrating a signal over time."
   ]
  },
  {
   "cell_type": "code",
   "execution_count": null,
   "id": "ecf8267c-f7e3-4b28-bf0d-1adf0e566d19",
   "metadata": {},
   "outputs": [],
   "source": [
    "\n",
    "plt.rcParams[\"figure.figsize\"] = (15,10)\n",
    "fig, ax = plt.subplots(1, 3)\n",
    "plt.tick_params(labelsize = 10)\n",
    "\n"
   ]
  }
 ],
 "metadata": {
  "kernelspec": {
   "display_name": "Python 3",
   "language": "python",
   "name": "python3"
  },
  "language_info": {
   "codemirror_mode": {
    "name": "ipython",
    "version": 3
   },
   "file_extension": ".py",
   "mimetype": "text/x-python",
   "name": "python",
   "nbconvert_exporter": "python",
   "pygments_lexer": "ipython3",
   "version": "3.8.8"
  }
 },
 "nbformat": 4,
 "nbformat_minor": 5
}
