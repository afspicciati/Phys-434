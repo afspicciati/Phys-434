{
 "cells": [
  {
   "cell_type": "code",
   "execution_count": 57,
   "id": "8cd3a022-2362-4aa5-ade5-2ff31f2d9851",
   "metadata": {},
   "outputs": [],
   "source": [
    "%matplotlib inline\n",
    "import numpy as np\n",
    "import matplotlib\n",
    "import matplotlib.pyplot as plt\n",
    "import scipy\n",
    "from scipy import stats\n",
    "import pandas as pd\n",
    "\n",
    "#this sets the size of the plot to something useful\n",
    "plt.rcParams[\"figure.figsize\"] = (15,10)"
   ]
  },
  {
   "cell_type": "code",
   "execution_count": 58,
   "id": "b621222f-d9ab-4022-a065-0137e2acbb71",
   "metadata": {},
   "outputs": [
    {
     "data": {
      "image/png": "[encoded data removed]",
      "text/plain": [
       "<Figure size 1500x1000 with 1 Axes>"
      ]
     },
     "metadata": {},
     "output_type": "display_data"
    }
   ],
   "source": [
    "d = np.append(stats.norm.rvs(loc = 12., scale = 0.4, size = 100000), [10., 10.3, 2.1, 0., 0., 15.6, 22.3, 12.7])\n",
    "fig, ax = plt.subplots(1, 1)\n",
    "ax.hist(d,500, density=True)\n",
    "plt.tick_params(labelsize = 10)\n",
    "plt.yscale('log')\n",
    "#x = np.linspace(4.95,5.05,1000)\n",
    "#ax.plot(x,stats.norm.pdf(x,loc = 5., scale = 0.01),linewidth = 8,alpha = 0.7)\n",
    "plt.show()"
   ]
  },
  {
   "cell_type": "markdown",
   "id": "92e23f9e-eb78-4b7f-8fe9-7da9d8f7ce7c",
   "metadata": {},
   "source": [
    "A) So our goal is to identify bad data and throw it out.\n",
    "\n",
    "1. Start by exploring the data you have created with appropriate plots\n",
    "2. State the statistical question in words. Be very clear, and describe why you have chosen this statistical question.\n",
    "3. Restate your question in math. Be very clear.\n",
    "4. Apply your statistical test and construct a truth table."
   ]
  },
  {
   "cell_type": "markdown",
   "id": "894ec194-b895-4703-916a-2a7d94c94dd5",
   "metadata": {},
   "source": [
    "---\n",
    "\n",
    "1. see above\n",
    "2. The vast majority of good data will be within 4.5 sigma of the mean. My question is: Is the percentage of bad data thrown out when I set a threshold of 4.5 sigma high enough compared to the percentage of good data thrown out for this to be a good threshold?\n",
    "3. $\\pm$ 4.5 sigma = mean of our distribution $-$ PPF of our distribution at probability = CDF(5) of the normal distribution. After calculating this, %thrown out = sum(number of values outside $\\pm$ 4.5 sigma)/(total data points)\n",
    "\n",
    "Percentage of good data thrown out is "
   ]
  },
  {
   "cell_type": "code",
   "execution_count": 60,
   "id": "7d7dce9f-c275-4bf3-95f6-4308c1efa1c8",
   "metadata": {},
   "outputs": [],
   "source": [
    "def truth_table(sigma):\n",
    "    prob = stats.norm.cdf(sigma)\n",
    "    threshold = stats.norm.ppf(prob,loc = 12, scale = 0.4)\n",
    "    \n",
    "    threshold = threshold - 12\n",
    "    \n",
    "    np.random.seed(seed=153954)\n",
    "\n",
    "    true_data = stats.norm.rvs(loc = 12., scale = 0.4, size = 100000)\n",
    "    false_data = [10., 10.3, 2.1, 0., 0., 15.6, 22.3, 12.7]\n",
    "    \n",
    "    throw_away_true = 0\n",
    "    for val in true_data:\n",
    "        if val <= (12-threshold) or val >= (12+threshold):\n",
    "            throw_away_true += 1\n",
    "    \n",
    "    throw_away_false = 0\n",
    "    for val in false_data:\n",
    "        if val <= (12-threshold) or val >= (12+threshold):\n",
    "                throw_away_false += 1\n",
    "                \n",
    "    good_tossed = throw_away_true\n",
    "    good_kept = len(true_data) - good_tossed\n",
    "    \n",
    "    bad_tossed = throw_away_false\n",
    "    bad_kept = len(false_data) - bad_tossed\n",
    "    \n",
    "    data = ['Your Test Good',good_kept,good_tossed],['Your Test Bad',bad_tossed,bad_kept]\n",
    "    table = pd.DataFrame(data=data,columns=['','True T','Bad T'])\n",
    "    \n",
    "    return table"
   ]
  },
  {
   "cell_type": "code",
   "execution_count": 78,
   "id": "6857d796-c5fb-4ecb-9eb7-edb841d95ac0",
   "metadata": {},
   "outputs": [
    {
     "data": {
      "text/html": [
       "<div>\n",
       "<style scoped>\n",
       "    .dataframe tbody tr th:only-of-type {\n",
       "        vertical-align: middle;\n",
       "    }\n",
       "\n",
       "    .dataframe tbody tr th {\n",
       "        vertical-align: top;\n",
       "    }\n",
       "\n",
       "    .dataframe thead th {\n",
       "        text-align: right;\n",
       "    }\n",
       "</style>\n",
       "<table border=\"1\" class=\"dataframe\">\n",
       "  <thead>\n",
       "    <tr style=\"text-align: right;\">\n",
       "      <th></th>\n",
       "      <th></th>\n",
       "      <th>True T</th>\n",
       "      <th>Bad T</th>\n",
       "    </tr>\n",
       "  </thead>\n",
       "  <tbody>\n",
       "    <tr>\n",
       "      <th>0</th>\n",
       "      <td>Your Test Good</td>\n",
       "      <td>15716</td>\n",
       "      <td>84284</td>\n",
       "    </tr>\n",
       "    <tr>\n",
       "      <th>1</th>\n",
       "      <td>Your Test Bad</td>\n",
       "      <td>8</td>\n",
       "      <td>0</td>\n",
       "    </tr>\n",
       "  </tbody>\n",
       "</table>\n",
       "</div>"
      ],
      "text/plain": [
       "                   True T  Bad T\n",
       "0  Your Test Good   15716  84284\n",
       "1   Your Test Bad       8      0"
      ]
     },
     "execution_count": 78,
     "metadata": {},
     "output_type": "execute_result"
    }
   ],
   "source": [
    "truth_table(0.2)"
   ]
  },
  {
   "cell_type": "code",
   "execution_count": null,
   "id": "a61ad230-0cdc-4e8a-af23-dec5a683622f",
   "metadata": {},
   "outputs": [],
   "source": []
  },
  {
   "cell_type": "code",
   "execution_count": null,
   "id": "0f8cd4a8-a6f6-4c3f-9df5-b11ee6e1754b",
   "metadata": {},
   "outputs": [],
   "source": []
  },
  {
   "cell_type": "markdown",
   "id": "0e1ce6d1-4916-48b0-811e-24c0074d6b14",
   "metadata": {},
   "source": [
    "# Problem 2\n",
    "\n",
    "1. What distance in arcseconds does an object need to move to determine that it is an asteroid moving, and not random variation in the position of a star due to atmospheric effects?\n",
    "2. The magnitude of two Gaussians in the same as a Rayleigh distribution with $\\sigma_{Rayleigh} = \\sqrt{\\sigma_{gaussian}}$"
   ]
  },
  {
   "cell_type": "code",
   "execution_count": 73,
   "id": "ab41c4bb-26e2-4889-80b4-9aa0c745709b",
   "metadata": {},
   "outputs": [
    {
     "data": {
      "text/plain": [
       "0.9999997133484281"
      ]
     },
     "execution_count": 73,
     "metadata": {},
     "output_type": "execute_result"
    }
   ],
   "source": [
    "prob = stats.norm.cdf(5)\n",
    "prob"
   ]
  },
  {
   "cell_type": "code",
   "execution_count": 74,
   "id": "ae0d1772-a2e1-4df3-8f5b-fcd51295e1f7",
   "metadata": {},
   "outputs": [
    {
     "data": {
      "text/plain": [
       "5.489079776034238"
      ]
     },
     "execution_count": 74,
     "metadata": {},
     "output_type": "execute_result"
    }
   ],
   "source": [
    "stats.rayleigh.ppf(prob)"
   ]
  },
  {
   "cell_type": "code",
   "execution_count": null,
   "id": "6974d444-b526-4003-89f5-5611b4f22575",
   "metadata": {},
   "outputs": [],
   "source": []
  }
 ],
 "metadata": {
  "kernelspec": {
   "display_name": "Python 3",
   "language": "python",
   "name": "python3"
  },
  "language_info": {
   "codemirror_mode": {
    "name": "ipython",
    "version": 3
   },
   "file_extension": ".py",
   "mimetype": "text/x-python",
   "name": "python",
   "nbconvert_exporter": "python",
   "pygments_lexer": "ipython3",
   "version": "3.8.8"
  }
 },
 "nbformat": 4,
 "nbformat_minor": 5
}
