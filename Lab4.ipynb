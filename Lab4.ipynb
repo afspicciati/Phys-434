{
 "cells": [
  {
   "cell_type": "markdown",
   "id": "b573c984-da5b-4f91-9319-e379c435bb02",
   "metadata": {},
   "source": [
    "# Lab 4 - Phys 434\n",
    "## Andrew Spicciati\n",
    "## 10/26/21"
   ]
  },
  {
   "cell_type": "code",
   "execution_count": 1,
   "id": "528cdadd-6862-4529-8445-1a15c28ac1af",
   "metadata": {},
   "outputs": [],
   "source": [
    "%matplotlib inline\n",
    "import numpy as np\n",
    "import matplotlib\n",
    "import matplotlib.pyplot as plt\n",
    "import scipy\n",
    "from scipy import stats\n",
    "import h5py\n",
    "import pandas as pd\n",
    "\n",
    "from ipywidgets import interact\n",
    "\n",
    "#this sets the size of the plot to something useful\n",
    "plt.rcParams[\"figure.figsize\"] = (10,7)"
   ]
  },
  {
   "cell_type": "code",
   "execution_count": 2,
   "id": "de19c100-36a8-4b3a-bd25-46000e38172d",
   "metadata": {},
   "outputs": [],
   "source": [
    "hf = h5py.File('/home/jovyan/Lab-4-Files/gammaray_lab4.h5', 'r')"
   ]
  },
  {
   "cell_type": "code",
   "execution_count": 3,
   "id": "6a3cfa1a-e7b1-4cde-8b53-9d4b83a4244a",
   "metadata": {},
   "outputs": [
    {
     "data": {
      "text/plain": [
       "<KeysViewHDF5 ['data']>"
      ]
     },
     "execution_count": 3,
     "metadata": {},
     "output_type": "execute_result"
    }
   ],
   "source": [
    "hf.keys()"
   ]
  },
  {
   "cell_type": "code",
   "execution_count": 4,
   "id": "3806197e-893c-441e-80c0-152dd3701cff",
   "metadata": {},
   "outputs": [
    {
     "data": {
      "text/plain": [
       "array([9.40680016e+08, 3.15000000e+02, 4.50000000e+01, 1.00000000e+01])"
      ]
     },
     "execution_count": 4,
     "metadata": {},
     "output_type": "execute_result"
    }
   ],
   "source": [
    "data = np.array(hf.get('data'))\n",
    "data[:,0]"
   ]
  },
  {
   "cell_type": "code",
   "execution_count": 5,
   "id": "93274a85-9129-471d-93be-1fb98f10f23f",
   "metadata": {},
   "outputs": [],
   "source": [
    "hf.close()"
   ]
  },
  {
   "cell_type": "code",
   "execution_count": 6,
   "id": "73cc4cac-bf92-4589-9a6e-94a9d8a047db",
   "metadata": {},
   "outputs": [
    {
     "data": {
      "text/plain": [
       "<Closed HDF5 file>"
      ]
     },
     "execution_count": 6,
     "metadata": {},
     "output_type": "execute_result"
    }
   ],
   "source": [
    "hf"
   ]
  },
  {
   "cell_type": "markdown",
   "id": "19084fc4-23b3-4f16-b26e-90af9e847966",
   "metadata": {},
   "source": [
    "# Problem 1\n",
    "\n",
    "## 1) a series of plots to understand the data"
   ]
  },
  {
   "cell_type": "code",
   "execution_count": 7,
   "id": "09801d42-cf0a-4e77-9bf3-22f358e413a1",
   "metadata": {},
   "outputs": [],
   "source": [
    "#opening the data and putting it into an array\n",
    "hf = h5py.File('/home/jovyan/Lab-4-Files/gammaray_lab4.h5', 'r')\n",
    "data = np.transpose(np.array(hf.get('data')))\n",
    "\n",
    "columns = ['Time','Solar Phase','Longitude','Particle Counts']\n",
    "\n",
    "df = pd.DataFrame(columns = columns, data = data)"
   ]
  },
  {
   "cell_type": "code",
   "execution_count": 8,
   "id": "fb9eb55c-579a-4c05-82fd-22a1593cd592",
   "metadata": {},
   "outputs": [
    {
     "data": {
      "text/html": [
       "<div>\n",
       "<style scoped>\n",
       "    .dataframe tbody tr th:only-of-type {\n",
       "        vertical-align: middle;\n",
       "    }\n",
       "\n",
       "    .dataframe tbody tr th {\n",
       "        vertical-align: top;\n",
       "    }\n",
       "\n",
       "    .dataframe thead th {\n",
       "        text-align: right;\n",
       "    }\n",
       "</style>\n",
       "<table border=\"1\" class=\"dataframe\">\n",
       "  <thead>\n",
       "    <tr style=\"text-align: right;\">\n",
       "      <th></th>\n",
       "      <th>Time</th>\n",
       "      <th>Solar Phase</th>\n",
       "      <th>Longitude</th>\n",
       "      <th>Particle Counts</th>\n",
       "    </tr>\n",
       "  </thead>\n",
       "  <tbody>\n",
       "    <tr>\n",
       "      <th>0</th>\n",
       "      <td>940680016.0</td>\n",
       "      <td>315.000000</td>\n",
       "      <td>45.000000</td>\n",
       "      <td>10.0</td>\n",
       "    </tr>\n",
       "    <tr>\n",
       "      <th>1</th>\n",
       "      <td>940680016.1</td>\n",
       "      <td>315.007112</td>\n",
       "      <td>45.006667</td>\n",
       "      <td>8.0</td>\n",
       "    </tr>\n",
       "    <tr>\n",
       "      <th>2</th>\n",
       "      <td>940680016.2</td>\n",
       "      <td>315.014225</td>\n",
       "      <td>45.013333</td>\n",
       "      <td>7.0</td>\n",
       "    </tr>\n",
       "    <tr>\n",
       "      <th>3</th>\n",
       "      <td>940680016.3</td>\n",
       "      <td>315.021337</td>\n",
       "      <td>45.020000</td>\n",
       "      <td>11.0</td>\n",
       "    </tr>\n",
       "    <tr>\n",
       "      <th>4</th>\n",
       "      <td>940680016.4</td>\n",
       "      <td>315.028449</td>\n",
       "      <td>45.026667</td>\n",
       "      <td>8.0</td>\n",
       "    </tr>\n",
       "    <tr>\n",
       "      <th>...</th>\n",
       "      <td>...</td>\n",
       "      <td>...</td>\n",
       "      <td>...</td>\n",
       "      <td>...</td>\n",
       "    </tr>\n",
       "    <tr>\n",
       "      <th>25919996</th>\n",
       "      <td>943272015.6</td>\n",
       "      <td>345.304884</td>\n",
       "      <td>44.973333</td>\n",
       "      <td>5.0</td>\n",
       "    </tr>\n",
       "    <tr>\n",
       "      <th>25919997</th>\n",
       "      <td>943272015.7</td>\n",
       "      <td>345.311996</td>\n",
       "      <td>44.980000</td>\n",
       "      <td>9.0</td>\n",
       "    </tr>\n",
       "    <tr>\n",
       "      <th>25919998</th>\n",
       "      <td>943272015.8</td>\n",
       "      <td>345.319109</td>\n",
       "      <td>44.986667</td>\n",
       "      <td>8.0</td>\n",
       "    </tr>\n",
       "    <tr>\n",
       "      <th>25919999</th>\n",
       "      <td>943272015.9</td>\n",
       "      <td>345.326221</td>\n",
       "      <td>44.993333</td>\n",
       "      <td>11.0</td>\n",
       "    </tr>\n",
       "    <tr>\n",
       "      <th>25920000</th>\n",
       "      <td>943272016.0</td>\n",
       "      <td>345.333333</td>\n",
       "      <td>45.000000</td>\n",
       "      <td>12.0</td>\n",
       "    </tr>\n",
       "  </tbody>\n",
       "</table>\n",
       "<p>25920001 rows × 4 columns</p>\n",
       "</div>"
      ],
      "text/plain": [
       "                 Time  Solar Phase  Longitude  Particle Counts\n",
       "0         940680016.0   315.000000  45.000000             10.0\n",
       "1         940680016.1   315.007112  45.006667              8.0\n",
       "2         940680016.2   315.014225  45.013333              7.0\n",
       "3         940680016.3   315.021337  45.020000             11.0\n",
       "4         940680016.4   315.028449  45.026667              8.0\n",
       "...               ...          ...        ...              ...\n",
       "25919996  943272015.6   345.304884  44.973333              5.0\n",
       "25919997  943272015.7   345.311996  44.980000              9.0\n",
       "25919998  943272015.8   345.319109  44.986667              8.0\n",
       "25919999  943272015.9   345.326221  44.993333             11.0\n",
       "25920000  943272016.0   345.333333  45.000000             12.0\n",
       "\n",
       "[25920001 rows x 4 columns]"
      ]
     },
     "execution_count": 8,
     "metadata": {},
     "output_type": "execute_result"
    }
   ],
   "source": [
    "df"
   ]
  },
  {
   "cell_type": "code",
   "execution_count": 9,
   "id": "8f66639a-be6c-447f-b81b-5bb491891def",
   "metadata": {},
   "outputs": [
    {
     "data": {
      "text/plain": [
       "30.0"
      ]
     },
     "execution_count": 9,
     "metadata": {},
     "output_type": "execute_result"
    }
   ],
   "source": [
    "#showing the range of the particle counts, so I can use this as my number of bins on the y-axis\n",
    "max(df['Particle Counts']) - min(df['Particle Counts'])"
   ]
  },
  {
   "cell_type": "markdown",
   "id": "d99d8981-b3b6-4f30-8ee9-74af44b284d3",
   "metadata": {},
   "source": [
    "#### 1.\n",
    "First, I show the general distribution of Particle Counts. It is clear that this is a Poisson distribution."
   ]
  },
  {
   "cell_type": "code",
   "execution_count": 10,
   "id": "77096669-d84a-4376-bc7d-dcd6d5f2f7ff",
   "metadata": {},
   "outputs": [
    {
     "data": {
      "image/png": "[encoded data removed]",
      "text/plain": [
       "<Figure size 1000x700 with 1 Axes>"
      ]
     },
     "metadata": {},
     "output_type": "display_data"
    }
   ],
   "source": [
    "plt.hist(df['Particle Counts'],bins = 30, density=True);"
   ]
  },
  {
   "cell_type": "markdown",
   "id": "6b45b7c6-298f-47dc-b4d3-84175123876f",
   "metadata": {},
   "source": [
    "#### 2.\n",
    "Here is a plot that shows an element of the data that has no signal contamination. As we can see, the distribution of Particle Counts is not dependent of Solar Phase."
   ]
  },
  {
   "cell_type": "code",
   "execution_count": 11,
   "id": "33739d31-a3f1-49a6-b9d1-affdcb6c8aae",
   "metadata": {},
   "outputs": [
    {
     "ename": "KeyboardInterrupt",
     "evalue": "",
     "output_type": "error",
     "traceback": [
      "\u001b[0;31m---------------------------------------------------------------------------\u001b[0m",
      "\u001b[0;31mKeyboardInterrupt\u001b[0m                         Traceback (most recent call last)",
      "\u001b[0;32m<ipython-input-11-7adfe1a5dc7b>\u001b[0m in \u001b[0;36m<module>\u001b[0;34m\u001b[0m\n\u001b[0;32m----> 1\u001b[0;31m \u001b[0mplt\u001b[0m\u001b[0;34m.\u001b[0m\u001b[0mhist2d\u001b[0m\u001b[0;34m(\u001b[0m\u001b[0mdf\u001b[0m\u001b[0;34m[\u001b[0m\u001b[0;34m'Solar Phase'\u001b[0m\u001b[0;34m]\u001b[0m\u001b[0;34m,\u001b[0m\u001b[0mdf\u001b[0m\u001b[0;34m[\u001b[0m\u001b[0;34m'Particle Counts'\u001b[0m\u001b[0;34m]\u001b[0m\u001b[0;34m,\u001b[0m\u001b[0mbins\u001b[0m\u001b[0;34m=\u001b[0m\u001b[0;34m(\u001b[0m\u001b[0;36m40\u001b[0m\u001b[0;34m,\u001b[0m\u001b[0;36m30\u001b[0m\u001b[0;34m)\u001b[0m\u001b[0;34m)\u001b[0m\u001b[0;34m\u001b[0m\u001b[0;34m\u001b[0m\u001b[0m\n\u001b[0m\u001b[1;32m      2\u001b[0m \u001b[0mplt\u001b[0m\u001b[0;34m.\u001b[0m\u001b[0mcolorbar\u001b[0m\u001b[0;34m(\u001b[0m\u001b[0;34m)\u001b[0m\u001b[0;34m\u001b[0m\u001b[0;34m\u001b[0m\u001b[0m\n\u001b[1;32m      3\u001b[0m \u001b[0;34m\u001b[0m\u001b[0m\n\u001b[1;32m      4\u001b[0m \u001b[0mplt\u001b[0m\u001b[0;34m.\u001b[0m\u001b[0mxlabel\u001b[0m\u001b[0;34m(\u001b[0m\u001b[0;34m'Solar Phase'\u001b[0m\u001b[0;34m)\u001b[0m\u001b[0;34m\u001b[0m\u001b[0;34m\u001b[0m\u001b[0m\n\u001b[1;32m      5\u001b[0m \u001b[0mplt\u001b[0m\u001b[0;34m.\u001b[0m\u001b[0mylabel\u001b[0m\u001b[0;34m(\u001b[0m\u001b[0;34m'Particle Counts'\u001b[0m\u001b[0;34m)\u001b[0m\u001b[0;34m;\u001b[0m\u001b[0;34m\u001b[0m\u001b[0;34m\u001b[0m\u001b[0m\n",
      "\u001b[0;32m/opt/conda/lib/python3.8/site-packages/matplotlib/pyplot.py\u001b[0m in \u001b[0;36mhist2d\u001b[0;34m(x, y, bins, range, density, weights, cmin, cmax, data, **kwargs)\u001b[0m\n\u001b[1;32m   2844\u001b[0m         \u001b[0mx\u001b[0m\u001b[0;34m,\u001b[0m \u001b[0my\u001b[0m\u001b[0;34m,\u001b[0m \u001b[0mbins\u001b[0m\u001b[0;34m=\u001b[0m\u001b[0;36m10\u001b[0m\u001b[0;34m,\u001b[0m \u001b[0mrange\u001b[0m\u001b[0;34m=\u001b[0m\u001b[0;32mNone\u001b[0m\u001b[0;34m,\u001b[0m \u001b[0mdensity\u001b[0m\u001b[0;34m=\u001b[0m\u001b[0;32mFalse\u001b[0m\u001b[0;34m,\u001b[0m \u001b[0mweights\u001b[0m\u001b[0;34m=\u001b[0m\u001b[0;32mNone\u001b[0m\u001b[0;34m,\u001b[0m\u001b[0;34m\u001b[0m\u001b[0;34m\u001b[0m\u001b[0m\n\u001b[1;32m   2845\u001b[0m         cmin=None, cmax=None, *, data=None, **kwargs):\n\u001b[0;32m-> 2846\u001b[0;31m     __ret = gca().hist2d(\n\u001b[0m\u001b[1;32m   2847\u001b[0m         \u001b[0mx\u001b[0m\u001b[0;34m,\u001b[0m \u001b[0my\u001b[0m\u001b[0;34m,\u001b[0m \u001b[0mbins\u001b[0m\u001b[0;34m=\u001b[0m\u001b[0mbins\u001b[0m\u001b[0;34m,\u001b[0m \u001b[0mrange\u001b[0m\u001b[0;34m=\u001b[0m\u001b[0mrange\u001b[0m\u001b[0;34m,\u001b[0m \u001b[0mdensity\u001b[0m\u001b[0;34m=\u001b[0m\u001b[0mdensity\u001b[0m\u001b[0;34m,\u001b[0m\u001b[0;34m\u001b[0m\u001b[0;34m\u001b[0m\u001b[0m\n\u001b[1;32m   2848\u001b[0m         \u001b[0mweights\u001b[0m\u001b[0;34m=\u001b[0m\u001b[0mweights\u001b[0m\u001b[0;34m,\u001b[0m \u001b[0mcmin\u001b[0m\u001b[0;34m=\u001b[0m\u001b[0mcmin\u001b[0m\u001b[0;34m,\u001b[0m \u001b[0mcmax\u001b[0m\u001b[0;34m=\u001b[0m\u001b[0mcmax\u001b[0m\u001b[0;34m,\u001b[0m\u001b[0;34m\u001b[0m\u001b[0;34m\u001b[0m\u001b[0m\n",
      "\u001b[0;32m/opt/conda/lib/python3.8/site-packages/matplotlib/__init__.py\u001b[0m in \u001b[0;36minner\u001b[0;34m(ax, data, *args, **kwargs)\u001b[0m\n\u001b[1;32m   1350\u001b[0m     \u001b[0;32mdef\u001b[0m \u001b[0minner\u001b[0m\u001b[0;34m(\u001b[0m\u001b[0max\u001b[0m\u001b[0;34m,\u001b[0m \u001b[0;34m*\u001b[0m\u001b[0margs\u001b[0m\u001b[0;34m,\u001b[0m \u001b[0mdata\u001b[0m\u001b[0;34m=\u001b[0m\u001b[0;32mNone\u001b[0m\u001b[0;34m,\u001b[0m \u001b[0;34m**\u001b[0m\u001b[0mkwargs\u001b[0m\u001b[0;34m)\u001b[0m\u001b[0;34m:\u001b[0m\u001b[0;34m\u001b[0m\u001b[0;34m\u001b[0m\u001b[0m\n\u001b[1;32m   1351\u001b[0m         \u001b[0;32mif\u001b[0m \u001b[0mdata\u001b[0m \u001b[0;32mis\u001b[0m \u001b[0;32mNone\u001b[0m\u001b[0;34m:\u001b[0m\u001b[0;34m\u001b[0m\u001b[0;34m\u001b[0m\u001b[0m\n\u001b[0;32m-> 1352\u001b[0;31m             \u001b[0;32mreturn\u001b[0m \u001b[0mfunc\u001b[0m\u001b[0;34m(\u001b[0m\u001b[0max\u001b[0m\u001b[0;34m,\u001b[0m \u001b[0;34m*\u001b[0m\u001b[0mmap\u001b[0m\u001b[0;34m(\u001b[0m\u001b[0msanitize_sequence\u001b[0m\u001b[0;34m,\u001b[0m \u001b[0margs\u001b[0m\u001b[0;34m)\u001b[0m\u001b[0;34m,\u001b[0m \u001b[0;34m**\u001b[0m\u001b[0mkwargs\u001b[0m\u001b[0;34m)\u001b[0m\u001b[0;34m\u001b[0m\u001b[0;34m\u001b[0m\u001b[0m\n\u001b[0m\u001b[1;32m   1353\u001b[0m \u001b[0;34m\u001b[0m\u001b[0m\n\u001b[1;32m   1354\u001b[0m         \u001b[0mbound\u001b[0m \u001b[0;34m=\u001b[0m \u001b[0mnew_sig\u001b[0m\u001b[0;34m.\u001b[0m\u001b[0mbind\u001b[0m\u001b[0;34m(\u001b[0m\u001b[0max\u001b[0m\u001b[0;34m,\u001b[0m \u001b[0;34m*\u001b[0m\u001b[0margs\u001b[0m\u001b[0;34m,\u001b[0m \u001b[0;34m**\u001b[0m\u001b[0mkwargs\u001b[0m\u001b[0;34m)\u001b[0m\u001b[0;34m\u001b[0m\u001b[0;34m\u001b[0m\u001b[0m\n",
      "\u001b[0;32m/opt/conda/lib/python3.8/site-packages/matplotlib/axes/_axes.py\u001b[0m in \u001b[0;36mhist2d\u001b[0;34m(self, x, y, bins, range, density, weights, cmin, cmax, **kwargs)\u001b[0m\n\u001b[1;32m   7070\u001b[0m         \"\"\"\n\u001b[1;32m   7071\u001b[0m \u001b[0;34m\u001b[0m\u001b[0m\n\u001b[0;32m-> 7072\u001b[0;31m         h, xedges, yedges = np.histogram2d(x, y, bins=bins, range=range,\n\u001b[0m\u001b[1;32m   7073\u001b[0m                                            density=density, weights=weights)\n\u001b[1;32m   7074\u001b[0m \u001b[0;34m\u001b[0m\u001b[0m\n",
      "\u001b[0;32m<__array_function__ internals>\u001b[0m in \u001b[0;36mhistogram2d\u001b[0;34m(*args, **kwargs)\u001b[0m\n",
      "\u001b[0;32m/opt/conda/lib/python3.8/site-packages/numpy/lib/twodim_base.py\u001b[0m in \u001b[0;36mhistogram2d\u001b[0;34m(x, y, bins, range, normed, weights, density)\u001b[0m\n\u001b[1;32m    742\u001b[0m         \u001b[0mxedges\u001b[0m \u001b[0;34m=\u001b[0m \u001b[0myedges\u001b[0m \u001b[0;34m=\u001b[0m \u001b[0masarray\u001b[0m\u001b[0;34m(\u001b[0m\u001b[0mbins\u001b[0m\u001b[0;34m)\u001b[0m\u001b[0;34m\u001b[0m\u001b[0;34m\u001b[0m\u001b[0m\n\u001b[1;32m    743\u001b[0m         \u001b[0mbins\u001b[0m \u001b[0;34m=\u001b[0m \u001b[0;34m[\u001b[0m\u001b[0mxedges\u001b[0m\u001b[0;34m,\u001b[0m \u001b[0myedges\u001b[0m\u001b[0;34m]\u001b[0m\u001b[0;34m\u001b[0m\u001b[0;34m\u001b[0m\u001b[0m\n\u001b[0;32m--> 744\u001b[0;31m     \u001b[0mhist\u001b[0m\u001b[0;34m,\u001b[0m \u001b[0medges\u001b[0m \u001b[0;34m=\u001b[0m \u001b[0mhistogramdd\u001b[0m\u001b[0;34m(\u001b[0m\u001b[0;34m[\u001b[0m\u001b[0mx\u001b[0m\u001b[0;34m,\u001b[0m \u001b[0my\u001b[0m\u001b[0;34m]\u001b[0m\u001b[0;34m,\u001b[0m \u001b[0mbins\u001b[0m\u001b[0;34m,\u001b[0m \u001b[0mrange\u001b[0m\u001b[0;34m,\u001b[0m \u001b[0mnormed\u001b[0m\u001b[0;34m,\u001b[0m \u001b[0mweights\u001b[0m\u001b[0;34m,\u001b[0m \u001b[0mdensity\u001b[0m\u001b[0;34m)\u001b[0m\u001b[0;34m\u001b[0m\u001b[0;34m\u001b[0m\u001b[0m\n\u001b[0m\u001b[1;32m    745\u001b[0m     \u001b[0;32mreturn\u001b[0m \u001b[0mhist\u001b[0m\u001b[0;34m,\u001b[0m \u001b[0medges\u001b[0m\u001b[0;34m[\u001b[0m\u001b[0;36m0\u001b[0m\u001b[0;34m]\u001b[0m\u001b[0;34m,\u001b[0m \u001b[0medges\u001b[0m\u001b[0;34m[\u001b[0m\u001b[0;36m1\u001b[0m\u001b[0;34m]\u001b[0m\u001b[0;34m\u001b[0m\u001b[0;34m\u001b[0m\u001b[0m\n\u001b[1;32m    746\u001b[0m \u001b[0;34m\u001b[0m\u001b[0m\n",
      "\u001b[0;32m<__array_function__ internals>\u001b[0m in \u001b[0;36mhistogramdd\u001b[0;34m(*args, **kwargs)\u001b[0m\n",
      "\u001b[0;32m/opt/conda/lib/python3.8/site-packages/numpy/lib/histograms.py\u001b[0m in \u001b[0;36mhistogramdd\u001b[0;34m(sample, bins, range, normed, weights, density)\u001b[0m\n\u001b[1;32m   1071\u001b[0m \u001b[0;34m\u001b[0m\u001b[0m\n\u001b[1;32m   1072\u001b[0m     \u001b[0;31m# Compute the bin number each sample falls into.\u001b[0m\u001b[0;34m\u001b[0m\u001b[0;34m\u001b[0m\u001b[0;34m\u001b[0m\u001b[0m\n\u001b[0;32m-> 1073\u001b[0;31m     Ncount = tuple(\n\u001b[0m\u001b[1;32m   1074\u001b[0m         \u001b[0;31m# avoid np.digitize to work around gh-11022\u001b[0m\u001b[0;34m\u001b[0m\u001b[0;34m\u001b[0m\u001b[0;34m\u001b[0m\u001b[0m\n\u001b[1;32m   1075\u001b[0m         \u001b[0mnp\u001b[0m\u001b[0;34m.\u001b[0m\u001b[0msearchsorted\u001b[0m\u001b[0;34m(\u001b[0m\u001b[0medges\u001b[0m\u001b[0;34m[\u001b[0m\u001b[0mi\u001b[0m\u001b[0;34m]\u001b[0m\u001b[0;34m,\u001b[0m \u001b[0msample\u001b[0m\u001b[0;34m[\u001b[0m\u001b[0;34m:\u001b[0m\u001b[0;34m,\u001b[0m \u001b[0mi\u001b[0m\u001b[0;34m]\u001b[0m\u001b[0;34m,\u001b[0m \u001b[0mside\u001b[0m\u001b[0;34m=\u001b[0m\u001b[0;34m'right'\u001b[0m\u001b[0;34m)\u001b[0m\u001b[0;34m\u001b[0m\u001b[0;34m\u001b[0m\u001b[0m\n",
      "\u001b[0;32m/opt/conda/lib/python3.8/site-packages/numpy/lib/histograms.py\u001b[0m in \u001b[0;36m<genexpr>\u001b[0;34m(.0)\u001b[0m\n\u001b[1;32m   1073\u001b[0m     Ncount = tuple(\n\u001b[1;32m   1074\u001b[0m         \u001b[0;31m# avoid np.digitize to work around gh-11022\u001b[0m\u001b[0;34m\u001b[0m\u001b[0;34m\u001b[0m\u001b[0;34m\u001b[0m\u001b[0m\n\u001b[0;32m-> 1075\u001b[0;31m         \u001b[0mnp\u001b[0m\u001b[0;34m.\u001b[0m\u001b[0msearchsorted\u001b[0m\u001b[0;34m(\u001b[0m\u001b[0medges\u001b[0m\u001b[0;34m[\u001b[0m\u001b[0mi\u001b[0m\u001b[0;34m]\u001b[0m\u001b[0;34m,\u001b[0m \u001b[0msample\u001b[0m\u001b[0;34m[\u001b[0m\u001b[0;34m:\u001b[0m\u001b[0;34m,\u001b[0m \u001b[0mi\u001b[0m\u001b[0;34m]\u001b[0m\u001b[0;34m,\u001b[0m \u001b[0mside\u001b[0m\u001b[0;34m=\u001b[0m\u001b[0;34m'right'\u001b[0m\u001b[0;34m)\u001b[0m\u001b[0;34m\u001b[0m\u001b[0;34m\u001b[0m\u001b[0m\n\u001b[0m\u001b[1;32m   1076\u001b[0m         \u001b[0;32mfor\u001b[0m \u001b[0mi\u001b[0m \u001b[0;32min\u001b[0m \u001b[0m_range\u001b[0m\u001b[0;34m(\u001b[0m\u001b[0mD\u001b[0m\u001b[0;34m)\u001b[0m\u001b[0;34m\u001b[0m\u001b[0;34m\u001b[0m\u001b[0m\n\u001b[1;32m   1077\u001b[0m     )\n",
      "\u001b[0;32m<__array_function__ internals>\u001b[0m in \u001b[0;36msearchsorted\u001b[0;34m(*args, **kwargs)\u001b[0m\n",
      "\u001b[0;32m/opt/conda/lib/python3.8/site-packages/numpy/core/fromnumeric.py\u001b[0m in \u001b[0;36msearchsorted\u001b[0;34m(a, v, side, sorter)\u001b[0m\n\u001b[1;32m   1346\u001b[0m \u001b[0;34m\u001b[0m\u001b[0m\n\u001b[1;32m   1347\u001b[0m     \"\"\"\n\u001b[0;32m-> 1348\u001b[0;31m     \u001b[0;32mreturn\u001b[0m \u001b[0m_wrapfunc\u001b[0m\u001b[0;34m(\u001b[0m\u001b[0ma\u001b[0m\u001b[0;34m,\u001b[0m \u001b[0;34m'searchsorted'\u001b[0m\u001b[0;34m,\u001b[0m \u001b[0mv\u001b[0m\u001b[0;34m,\u001b[0m \u001b[0mside\u001b[0m\u001b[0;34m=\u001b[0m\u001b[0mside\u001b[0m\u001b[0;34m,\u001b[0m \u001b[0msorter\u001b[0m\u001b[0;34m=\u001b[0m\u001b[0msorter\u001b[0m\u001b[0;34m)\u001b[0m\u001b[0;34m\u001b[0m\u001b[0;34m\u001b[0m\u001b[0m\n\u001b[0m\u001b[1;32m   1349\u001b[0m \u001b[0;34m\u001b[0m\u001b[0m\n\u001b[1;32m   1350\u001b[0m \u001b[0;34m\u001b[0m\u001b[0m\n",
      "\u001b[0;32m/opt/conda/lib/python3.8/site-packages/numpy/core/fromnumeric.py\u001b[0m in \u001b[0;36m_wrapfunc\u001b[0;34m(obj, method, *args, **kwds)\u001b[0m\n\u001b[1;32m     56\u001b[0m \u001b[0;34m\u001b[0m\u001b[0m\n\u001b[1;32m     57\u001b[0m     \u001b[0;32mtry\u001b[0m\u001b[0;34m:\u001b[0m\u001b[0;34m\u001b[0m\u001b[0;34m\u001b[0m\u001b[0m\n\u001b[0;32m---> 58\u001b[0;31m         \u001b[0;32mreturn\u001b[0m \u001b[0mbound\u001b[0m\u001b[0;34m(\u001b[0m\u001b[0;34m*\u001b[0m\u001b[0margs\u001b[0m\u001b[0;34m,\u001b[0m \u001b[0;34m**\u001b[0m\u001b[0mkwds\u001b[0m\u001b[0;34m)\u001b[0m\u001b[0;34m\u001b[0m\u001b[0;34m\u001b[0m\u001b[0m\n\u001b[0m\u001b[1;32m     59\u001b[0m     \u001b[0;32mexcept\u001b[0m \u001b[0mTypeError\u001b[0m\u001b[0;34m:\u001b[0m\u001b[0;34m\u001b[0m\u001b[0;34m\u001b[0m\u001b[0m\n\u001b[1;32m     60\u001b[0m         \u001b[0;31m# A TypeError occurs if the object does have such a method in its\u001b[0m\u001b[0;34m\u001b[0m\u001b[0;34m\u001b[0m\u001b[0;34m\u001b[0m\u001b[0m\n",
      "\u001b[0;31mKeyboardInterrupt\u001b[0m: "
     ]
    },
    {
     "data": {
      "image/png": "[encoded data removed]",
      "text/plain": [
       "<Figure size 1000x700 with 1 Axes>"
      ]
     },
     "metadata": {},
     "output_type": "display_data"
    }
   ],
   "source": [
    "plt.hist2d(df['Solar Phase'],df['Particle Counts'],bins=(40,30))\n",
    "plt.colorbar()\n",
    "\n",
    "plt.xlabel('Solar Phase')\n",
    "plt.ylabel('Particle Counts');"
   ]
  },
  {
   "cell_type": "markdown",
   "id": "868130eb-b901-441d-8e15-ba11ba42fb2f",
   "metadata": {},
   "source": [
    "#### 3.\n",
    "Next, I made some plots with time, and here I do notice a dependance. The period of the dependance is the same as the period of orbit, 5400 seconds."
   ]
  },
  {
   "cell_type": "code",
   "execution_count": null,
   "id": "1b7ff96b-6040-4d5c-ac8e-d82f47878861",
   "metadata": {},
   "outputs": [],
   "source": [
    "plt.hist2d(df['Time'][40000:190000],df['Particle Counts'][40000:190000],bins=(40,28))\n",
    "plt.colorbar()\n",
    "\n",
    "plt.xlabel('Time (gps seconds)')\n",
    "plt.ylabel('Particle Counts');"
   ]
  },
  {
   "cell_type": "markdown",
   "id": "855d9f35-fe82-4fe9-b5e9-35a98b3e705a",
   "metadata": {},
   "source": [
    "#### 4.\n",
    "By folding the Time axis by the period, I can show the average dependence per period of orbit."
   ]
  },
  {
   "cell_type": "code",
   "execution_count": null,
   "id": "0e33011c-cf1d-4c26-a308-ab31dd7c4b9d",
   "metadata": {},
   "outputs": [],
   "source": [
    "fold = df['Time'] % (90*60)"
   ]
  },
  {
   "cell_type": "code",
   "execution_count": null,
   "id": "1fa3e1b2-5956-4612-864b-bc6cc81375b0",
   "metadata": {},
   "outputs": [],
   "source": [
    "plt.hist2d(fold,df['Particle Counts'],bins=(40,28), density=True)\n",
    "plt.colorbar()\n",
    "\n",
    "plt.xlabel('Time (gps seconds)')\n",
    "plt.ylabel('Particle Counts');"
   ]
  },
  {
   "cell_type": "markdown",
   "id": "9cbb0e2d-a241-4c8f-a659-4c791dd2d3ab",
   "metadata": {},
   "source": [
    "#### 5.\n",
    "Next I plot longitude, and notice that it has the same dependence as time. This makes sense because longitude is varying at the same rate as time is. Going forward I decide to work with longitude, because it doesn't require being folded. "
   ]
  },
  {
   "cell_type": "code",
   "execution_count": null,
   "id": "8f636421-992b-4951-990f-7b83cd77a0f0",
   "metadata": {},
   "outputs": [],
   "source": [
    "plt.hist2d(df['Longitude'],df['Particle Counts'],bins=(40,30))\n",
    "plt.colorbar()\n",
    "\n",
    "plt.xlabel('Longitude')\n",
    "plt.ylabel('Particle Counts');"
   ]
  },
  {
   "cell_type": "markdown",
   "id": "949b3982-32cf-4f33-a138-ab50ab50b9d1",
   "metadata": {},
   "source": [
    "#### 6.\n",
    "I shift the data so it is continuous from 0 to 360."
   ]
  },
  {
   "cell_type": "code",
   "execution_count": null,
   "id": "f04b3bf7-c2e3-44bc-be58-d2664c4e386e",
   "metadata": {},
   "outputs": [],
   "source": [
    "longitude = (df['Longitude'] + 45) % 360"
   ]
  },
  {
   "cell_type": "code",
   "execution_count": null,
   "id": "8382f1fb-e7fe-4cab-8e63-ebefe61b9717",
   "metadata": {},
   "outputs": [],
   "source": [
    "plt.hist2d(longitude,df['Particle Counts'],bins=(40,30));\n",
    "plt.colorbar()\n",
    "\n",
    "plt.xlabel('Longitude')\n",
    "plt.ylabel('Particle Counts');"
   ]
  },
  {
   "cell_type": "markdown",
   "id": "29c7aea7-de57-476d-87cd-df0eb48888dc",
   "metadata": {},
   "source": [
    "## 2) Find and describe as accurately as you can how the background changes.\n",
    "\n",
    "This plot shows how the background changes with longitude, and as I showed earlier, this is directly related to 90 minute orbital periods of the satellite. One thing to note here: The x-axis is wrong, as it actually starts at longitude of 315. With time, the background distribution of particle counts is at its max at longitude of 315 and falls off with what appears to be exponential decay; flattening out around 6 particle counts from 200 to 360 relative degrees.  "
   ]
  },
  {
   "cell_type": "markdown",
   "id": "7385c179-872f-4abd-9f49-b1f592a2f5c4",
   "metadata": {},
   "source": [
    "## 3) Create a model for the background that includes time dependence, and explicitly compare your model to the data. How good is your model of the background?"
   ]
  },
  {
   "cell_type": "markdown",
   "id": "a09f6a91-d8cd-4b0d-b51f-0c5f1e225158",
   "metadata": {},
   "source": [
    "Since the data is poisson, the time dependance of the data can be approximated by the average. So here I calculate and plot the average of the particle counts by longitude -- shifted by 45 degrees still."
   ]
  },
  {
   "cell_type": "code",
   "execution_count": null,
   "id": "65dae878-e77e-476c-8958-b20a8ee279bd",
   "metadata": {},
   "outputs": [],
   "source": [
    "df2 = df.sort_values(by = 'Longitude', ignore_index = True)\n",
    "df2 "
   ]
  },
  {
   "cell_type": "code",
   "execution_count": null,
   "id": "dd571589-dbbb-4e64-8e75-290f03f81da8",
   "metadata": {},
   "outputs": [],
   "source": [
    "#there's gotta be a better way to calculate average, this takes forever\n",
    "\n",
    "x = np.linspace(0.5,360,720)\n",
    "avg = []\n",
    "idx = 0\n",
    "length = len(df2['Particle Counts'])\n",
    "for a in x:\n",
    "    tot = 0\n",
    "    val = 0\n",
    "    amt = 0\n",
    "    while val < a and idx < length:\n",
    "        val = df2['Longitude'][idx]\n",
    "        tot += df2['Particle Counts'][idx]\n",
    "        idx+= 1\n",
    "        amt += 1\n",
    "    avg.append(tot/amt)"
   ]
  },
  {
   "cell_type": "code",
   "execution_count": null,
   "id": "2c5dc4aa-603d-4ab3-945d-554a86e4cf43",
   "metadata": {},
   "outputs": [],
   "source": [
    "#some code I wrote a while back to make a running average to smooth plots\n",
    "def boxcar_avg(data, width=1):\n",
    "\n",
    "    if width < 1:\n",
    "        width = 1\n",
    "\n",
    "    car_width = 1 + 2*width\n",
    "\n",
    "    running_avg = []\n",
    "    for i in range(len(data)):\n",
    "\n",
    "        avg = data[i]\n",
    "        for a in range(1, width+1, 1):\n",
    "            if (-1 + width) < i < (len(data) - width):\n",
    "                avg += data[i+a] + data[i-a]\n",
    "            else:\n",
    "                score = i - a\n",
    "                score2 = i + a\n",
    "\n",
    "                if score >= 0 and score2 <= (len(data) - 1):\n",
    "                    avg += data[i+a] + data[i-a]\n",
    "                elif score >= 0:\n",
    "                    avg += data[i-a]\n",
    "                elif score2 <= (len(data)-1):\n",
    "                    avg += data[i+a]\n",
    "        running_avg.append(avg)\n",
    "    running_avg2 = []\n",
    "    for a in running_avg:\n",
    "        running_avg2.append(a/car_width)\n",
    "    return running_avg2"
   ]
  },
  {
   "cell_type": "code",
   "execution_count": null,
   "id": "0f26663b-8947-45a9-884a-62e5400f9c56",
   "metadata": {},
   "outputs": [],
   "source": [
    "idx_jump = np.argwhere(np.where(x>314,x,np.inf)<315)[0][0]\n",
    "new_avg = avg[idx_jump:] + avg[:idx_jump]"
   ]
  },
  {
   "cell_type": "code",
   "execution_count": null,
   "id": "9a24f276-a214-4216-821e-9155224c16ab",
   "metadata": {},
   "outputs": [],
   "source": [
    "longitude = (df2['Longitude'] + 45) % 360\n",
    "plt.plot(x[6:-6],boxcar_avg(new_avg,4)[6:-6],color='r')\n",
    "plt.hist2d(longitude,df2['Particle Counts'],bins=(40,30))\n",
    "plt.ylim(0,20);"
   ]
  },
  {
   "cell_type": "markdown",
   "id": "be9d5e91-f512-4a4f-8c5d-a8fdab34bf7c",
   "metadata": {},
   "source": [
    "Here, I tried to fit an expontial with the average. Because we haven't learned how to do this, I had to guess and check all the parameters by hand:"
   ]
  },
  {
   "cell_type": "code",
   "execution_count": null,
   "id": "30ccd4ba-5b4c-4d0b-8721-5cf3b28744b1",
   "metadata": {},
   "outputs": [],
   "source": [
    "t = np.linspace(0,360,3600)\n",
    "exp = new_avg[2]*(1/(1.98*np.exp(t/84.8))) + new_avg[-5]\n",
    "\n",
    "plt.plot(t,exp, label = 'fit')\n",
    "\n",
    "plt.plot(x[6:-6],boxcar_avg(new_avg,4)[6:-6],color='r', label = 'data_average')\n",
    "\n",
    "plt.yscale('log')\n",
    "plt.legend();"
   ]
  },
  {
   "cell_type": "markdown",
   "id": "767d90fd-bb79-4bff-b2ab-3e97c70ee0c0",
   "metadata": {},
   "source": [
    "This model seems to be a decent fit to my data, only varying noticably from 200 to 360 degrees longitude. I'm sure a better fit is possible, but I did my best with the tools I know.\n",
    "\n",
    "## 4) Because the background varies, your discovery sensitivity threshold (how many particles you would need to see) also varies. What is the '5-sigma' threshold for a 100 millisecond GRB at different times?"
   ]
  },
  {
   "cell_type": "code",
   "execution_count": null,
   "id": "27c32341-6350-499c-b143-9128972d4a90",
   "metadata": {},
   "outputs": [],
   "source": [
    "def calc_five_sigma(avg):\n",
    "    return stats.poisson.ppf(stats.norm.cdf(5),mu=avg)\n",
    "    "
   ]
  },
  {
   "cell_type": "code",
   "execution_count": null,
   "id": "f4821588-3f75-4fe6-80a3-ff7061130592",
   "metadata": {},
   "outputs": [],
   "source": [
    "plt.step(t,calc_five_sigma(exp))\n",
    "plt.xlabel('Longitude')\n",
    "plt.ylabel('5-Sigma Gamma-Ray Bursts')\n",
    "plt.title('5 Sigma Value as a function of Earth Longitude');"
   ]
  },
  {
   "cell_type": "code",
   "execution_count": null,
   "id": "9559db75-66d8-4f7b-8350-82c9289e67df",
   "metadata": {},
   "outputs": [],
   "source": []
  },
  {
   "cell_type": "code",
   "execution_count": null,
   "id": "2b2ad561-313b-489e-a4d7-36f643c14f9e",
   "metadata": {},
   "outputs": [],
   "source": []
  },
  {
   "cell_type": "code",
   "execution_count": null,
   "id": "da2fbbb7-4375-41a9-96b8-acddf59a8caa",
   "metadata": {},
   "outputs": [],
   "source": []
  },
  {
   "cell_type": "markdown",
   "id": "2f407fa9-e41e-4694-b0bb-e27c2a9f835b",
   "metadata": {},
   "source": [
    "# Problem 2\n",
    "\n",
    "## 1) Dowload the data from images.h5. This is a stack of 10 square images, each 200 pixels on a side."
   ]
  },
  {
   "cell_type": "code",
   "execution_count": null,
   "id": "62df7688-d59d-497e-9b95-11dbb0c7d0f8",
   "metadata": {},
   "outputs": [],
   "source": [
    "hf = h5py.File('/home/jovyan/Lab-4-Files/images_lab4.h5', 'r')"
   ]
  },
  {
   "cell_type": "code",
   "execution_count": null,
   "id": "ddc33df1-d63e-4a95-8e59-e78e15988782",
   "metadata": {},
   "outputs": [],
   "source": [
    "hf.keys()"
   ]
  },
  {
   "cell_type": "code",
   "execution_count": null,
   "id": "da90abe0-18f1-49a2-8ed3-9b0359215d34",
   "metadata": {},
   "outputs": [],
   "source": [
    "hf"
   ]
  },
  {
   "cell_type": "code",
   "execution_count": null,
   "id": "7f1c5177-00a5-42e8-8a58-48cf6a4fa727",
   "metadata": {},
   "outputs": [],
   "source": [
    "image1 = np.array(hf.get('image1'))"
   ]
  },
  {
   "cell_type": "code",
   "execution_count": null,
   "id": "8df7160c-381c-4034-b0bf-5873ecb16470",
   "metadata": {},
   "outputs": [],
   "source": [
    "imgstack = np.transpose(np.array(hf.get('imagestack')))"
   ]
  },
  {
   "cell_type": "code",
   "execution_count": null,
   "id": "fbb9d5cb-9c94-4b83-8a96-151d82085bd8",
   "metadata": {},
   "outputs": [],
   "source": [
    "imgstack.shape"
   ]
  },
  {
   "cell_type": "code",
   "execution_count": null,
   "id": "b515c590-94d1-4301-b1bc-ce84b7fe5c66",
   "metadata": {},
   "outputs": [],
   "source": [
    "imgstack[0].shape"
   ]
  },
  {
   "cell_type": "code",
   "execution_count": null,
   "id": "d0871566-dc0a-43c1-8f83-9a1d9d775208",
   "metadata": {},
   "outputs": [],
   "source": [
    "sum(imgstack[0].flatten())"
   ]
  },
  {
   "cell_type": "markdown",
   "id": "ac136c3b-5ef3-40e4-8462-d8c775a47250",
   "metadata": {},
   "source": [
    "# 2) Explore the data. Is there signal contamination? Is the background time dependent? Is it consistent spatially? Develop a plan to calculate your background pdf()."
   ]
  },
  {
   "cell_type": "code",
   "execution_count": null,
   "id": "60cf5e73-a643-4124-a2de-78e9c9323758",
   "metadata": {},
   "outputs": [],
   "source": [
    "plt.imshow(image1)"
   ]
  },
  {
   "cell_type": "code",
   "execution_count": null,
   "id": "3887c498-1e80-4e60-9910-38dc82eec2ee",
   "metadata": {},
   "outputs": [],
   "source": [
    "plt.imshow(imgstack[0])"
   ]
  },
  {
   "cell_type": "code",
   "execution_count": null,
   "id": "b3950692-b00d-4010-b624-b34790426ed2",
   "metadata": {},
   "outputs": [],
   "source": [
    "def get_counts(image):\n",
    "    pixel_vals = []\n",
    "    for i in range(len(image[0])):\n",
    "        for a in range(len(image[1])):\n",
    "            pixel_vals.append(image[i][a])\n",
    "    return pixel_vals"
   ]
  },
  {
   "cell_type": "code",
   "execution_count": null,
   "id": "79e26b4e-5725-4c07-8c07-dc876cb0d29b",
   "metadata": {},
   "outputs": [],
   "source": [
    "a = imgstack[0].flatten()"
   ]
  },
  {
   "cell_type": "code",
   "execution_count": null,
   "id": "06b3a9e0-09d5-4b0f-917c-7a8234f25435",
   "metadata": {},
   "outputs": [],
   "source": [
    "b = imgstack.flatten()"
   ]
  },
  {
   "cell_type": "code",
   "execution_count": null,
   "id": "c1e31800-07a8-4162-9876-b8b41c7d91f7",
   "metadata": {},
   "outputs": [],
   "source": [
    "len(b)"
   ]
  },
  {
   "cell_type": "code",
   "execution_count": null,
   "id": "8d5f5adb-718a-4426-8163-d4d6246dc0bc",
   "metadata": {},
   "outputs": [],
   "source": [
    "plt.hist(b,bins=150,density = True)\n",
    "plt.yscale('log');"
   ]
  },
  {
   "cell_type": "code",
   "execution_count": null,
   "id": "f700e563-0e72-4b17-9b4c-9e96091c63e1",
   "metadata": {},
   "outputs": [],
   "source": [
    "for image in imgstack:\n",
    "    a = image.flatten()\n",
    "    plt.hist(a,bins=150,alpha=0.4)\n",
    "plt.hist(image1.flatten(),bins=150,alpha=0.4)\n",
    "plt.yscale('log')\n",
    "plt.title('')\n",
    "plt.ylabel('Pixel Counts')\n",
    "plt.xlabel('Relative Intensity');"
   ]
  },
  {
   "cell_type": "markdown",
   "id": "3f71d180-971f-44f4-b20f-8a0734a5a7e2",
   "metadata": {},
   "source": [
    "As we can see from this, the gaussian centered at 0 is the background and the skew to the right is data. We knew the skew isn't part of the background because it is not symmetic (i.e. we do not have negative intensity stars). Next I isolate the peak by finding the most negative value and using it as a cutoff for the background distribution."
   ]
  },
  {
   "cell_type": "code",
   "execution_count": null,
   "id": "b6c8cadc-67b2-413f-9c8b-37cedd3aad3a",
   "metadata": {},
   "outputs": [],
   "source": [
    "minimum = 0\n",
    "idx_min = 0\n",
    "\n",
    "for idx,image in enumerate(imgstack):\n",
    "    if min(image.flatten()) < minimum:\n",
    "        minimum = min(image.flatten())\n",
    "        idx_min = idx\n",
    "print(minimum,idx_min)"
   ]
  },
  {
   "cell_type": "code",
   "execution_count": null,
   "id": "cfbc0691-b202-4d45-9016-bf8bd2f16e45",
   "metadata": {},
   "outputs": [],
   "source": [
    "dist = imgstack[3].flatten()\n",
    "gaussian = []\n",
    "for a in dist:\n",
    "    if minimum <= a <= -minimum:\n",
    "        gaussian.append(a)"
   ]
  },
  {
   "cell_type": "code",
   "execution_count": null,
   "id": "0fc5eb31-8cf9-482b-afae-86bd0e990680",
   "metadata": {},
   "outputs": [],
   "source": [
    "plt.hist(gaussian,bins=100)\n",
    "plt.title('Gaussian Distribution for Image 4 in imgstack')\n",
    "plt.ylabel('Pixel Counts')\n",
    "plt.xlabel('Relative Intensity');"
   ]
  },
  {
   "cell_type": "markdown",
   "id": "2e131664-9838-4cf9-a0e9-bd5e7262212e",
   "metadata": {},
   "source": [
    "Now I fit a gaussian curve to this with a standard deviation of 0.55:"
   ]
  },
  {
   "cell_type": "code",
   "execution_count": null,
   "id": "e6d29d71-e145-4e6c-baeb-64bf8d5269fd",
   "metadata": {},
   "outputs": [],
   "source": [
    "std = 0.55\n",
    "width = 3.8\n",
    "x = np.linspace(-width,width,40000)\n",
    "dist = stats.norm.pdf(x=x,loc=0,scale=std)"
   ]
  },
  {
   "cell_type": "code",
   "execution_count": null,
   "id": "99bf6099-33b0-49af-9bf7-2066a99970ec",
   "metadata": {},
   "outputs": [],
   "source": [
    "plt.hist(gaussian,bins=150,density = True)\n",
    "plt.plot(x,dist);\n",
    "plt.yscale('log')\n",
    "plt.ylabel('Probabilty')\n",
    "plt.xlabel('Relative Intensity');\n",
    "\n"
   ]
  },
  {
   "cell_type": "markdown",
   "id": "4e715e32-6d9b-4abc-948a-d93c787de02f",
   "metadata": {},
   "source": [
    "now plotting this onto the full distribution:"
   ]
  },
  {
   "cell_type": "code",
   "execution_count": null,
   "id": "e617314f-785a-4cd7-9c41-46d9c128d24e",
   "metadata": {},
   "outputs": [],
   "source": [
    "plt.hist(imgstack[3].flatten(),bins=150, density = True)\n",
    "plt.plot(x,dist)\n",
    "plt.yscale('log')\n",
    "plt.ylabel('Probabilty')\n",
    "plt.xlabel('Relative Intensity');"
   ]
  },
  {
   "cell_type": "markdown",
   "id": "7eac65a6-0f0f-4aa8-8822-a79483e486eb",
   "metadata": {},
   "source": [
    "we want to know if the background is time dependent so I will repeat this plot for each image:"
   ]
  },
  {
   "cell_type": "code",
   "execution_count": null,
   "id": "8bdb2e29-d846-41b3-bb56-9a770a0f30f4",
   "metadata": {},
   "outputs": [],
   "source": [
    "def do_thing(image,std=0.55):\n",
    "    dist = image.flatten()\n",
    "    minimum = -min(dist)\n",
    "    gaussian = []\n",
    "    for a in dist:\n",
    "        if -minimum <= a <= minimum:\n",
    "            gaussian.append(a)\n",
    "    \n",
    "    std = 0.55\n",
    "    width = minimum\n",
    "    x = np.linspace(-width,width,40000)\n",
    "    dist = stats.norm.pdf(x=x,loc=0,scale=std)\n",
    "    \n",
    "    plt.rcParams[\"figure.figsize\"] = (8,6)\n",
    "    plt.hist(gaussian,bins=150,density = True)\n",
    "    plt.plot(x,dist);\n",
    "    plt.yscale('log')\n",
    "    plt.ylabel('Probabilty')\n",
    "    plt.xlabel('Relative Intensity')\n",
    "    plt.show()"
   ]
  },
  {
   "cell_type": "code",
   "execution_count": null,
   "id": "d05c7b96-2a89-434c-a597-774af545c7ec",
   "metadata": {},
   "outputs": [],
   "source": [
    "for i in imgstack:\n",
    "    do_thing(i)"
   ]
  },
  {
   "cell_type": "markdown",
   "id": "4c0eb148-02fc-4163-a806-8c649dc962ef",
   "metadata": {},
   "source": [
    "We can see that the Gaussian background distribution is not time dependent, so fluctuations in the intensity values are due to stars or transients. "
   ]
  },
  {
   "cell_type": "markdown",
   "id": "c07a5100-e457-4006-b2d8-7e421f4b515c",
   "metadata": {},
   "source": [
    "# 3) Using your background distribution, hunt for your signal (either faint stars, or a transient). Describe what you find.\n",
    "Since we have 40,000 pixels in each image, to expect to see a pixel at an intensity would be 40,000 * probability = 1."
   ]
  },
  {
   "cell_type": "code",
   "execution_count": null,
   "id": "26f0f05f-8e2a-4d5f-b438-12b54007c054",
   "metadata": {},
   "outputs": [],
   "source": [
    "prob = 1/40000\n",
    "\n",
    "intensity = stats.norm.ppf(1-prob,scale = 0.55)"
   ]
  },
  {
   "cell_type": "code",
   "execution_count": null,
   "id": "e075ffc1-31d5-48ef-8d6f-474bbf468f2f",
   "metadata": {},
   "outputs": [],
   "source": [
    "intensity"
   ]
  },
  {
   "cell_type": "markdown",
   "id": "979d39ca-f7d5-49ec-98b9-debcac8baf0e",
   "metadata": {},
   "source": [
    "I will also state that \"obvious\" stars are stars above 5-sigma, which is:"
   ]
  },
  {
   "cell_type": "code",
   "execution_count": null,
   "id": "63fb65e7-bdd6-417a-b975-7ae2f1353c97",
   "metadata": {},
   "outputs": [],
   "source": [
    "prob = stats.norm.sf(5)\n",
    "five_sigma = stats.norm.ppf(1 - prob/40000,scale=0.55)"
   ]
  },
  {
   "cell_type": "code",
   "execution_count": null,
   "id": "a84ca077-69b2-45de-93ac-888f423bd071",
   "metadata": {},
   "outputs": [],
   "source": [
    "five_sigma"
   ]
  },
  {
   "cell_type": "markdown",
   "id": "2c6f2390-a0e5-480e-aac5-104711794cec",
   "metadata": {},
   "source": [
    "So now I will look for stars between 2.23 and 3.7 intensity, which may be good candidates for faint stars."
   ]
  },
  {
   "cell_type": "code",
   "execution_count": null,
   "id": "b8353907-5b5a-4d0a-bf18-1e50d89e45d5",
   "metadata": {},
   "outputs": [],
   "source": [
    "def find_faint(img):\n",
    "    faint_stars = np.where(img>2.23,img,100)\n",
    "    faint_stars = np.where(faint_stars<3.7,a,0)\n",
    "    return faint_stars"
   ]
  },
  {
   "cell_type": "code",
   "execution_count": null,
   "id": "1b8aeeab-3627-4c07-a6ce-e0bcae4099d5",
   "metadata": {},
   "outputs": [],
   "source": [
    "def plot_faint_stars(image):\n",
    "    fig, ax = plt.subplots(1, 2)\n",
    "\n",
    "    faint_stars = find_faint(image)\n",
    "    ax[0].imshow(image)\n",
    "    ax[1].imshow(faint_stars, cmap='hot')"
   ]
  },
  {
   "cell_type": "code",
   "execution_count": null,
   "id": "c9b38e8b-b11d-4c79-a23e-82341711f327",
   "metadata": {},
   "outputs": [],
   "source": [
    "for i in imgstack:\n",
    "    plot_faint_stars(i)"
   ]
  },
  {
   "cell_type": "markdown",
   "id": "738d105b-da51-4b41-ac7a-ed3a1b1b98f2",
   "metadata": {},
   "source": [
    "Apologies, I have run out of time to analize these plots properly. Here I have plotted the original images on the left with the stars between 2.3 and 3.7 intensity on the right. There is clearly some overlap and I believe the next step in this research would be to look for faint stars that show up in the same location on multiple images -- these could be confirmed as true faint stars. "
   ]
  },
  {
   "cell_type": "markdown",
   "id": "eb78ed87-e91a-4e71-bfd6-ea3f35239174",
   "metadata": {},
   "source": [
    "# 4) You and your lab partner had different pdf(), but were using the same data. Explore why this is.\n",
    "Because I have to consider not only the distribution of background but also the distribution of stars, while my partner need only consider the distribution of background and search for outlier values within the stars."
   ]
  },
  {
   "cell_type": "code",
   "execution_count": null,
   "id": "ec05f507-1235-4290-a00c-1143ea2d26df",
   "metadata": {},
   "outputs": [],
   "source": []
  },
  {
   "cell_type": "code",
   "execution_count": null,
   "id": "f6eff438-1fc7-4a16-83ea-5145f89fb0dd",
   "metadata": {},
   "outputs": [],
   "source": []
  }
 ],
 "metadata": {
  "kernelspec": {
   "display_name": "Python 3",
   "language": "python",
   "name": "python3"
  },
  "language_info": {
   "codemirror_mode": {
    "name": "ipython",
    "version": 3
   },
   "file_extension": ".py",
   "mimetype": "text/x-python",
   "name": "python",
   "nbconvert_exporter": "python",
   "pygments_lexer": "ipython3",
   "version": "3.8.8"
  }
 },
 "nbformat": 4,
 "nbformat_minor": 5
}
