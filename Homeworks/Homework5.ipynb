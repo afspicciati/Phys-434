{
 "cells": [
  {
   "cell_type": "markdown",
   "id": "266b6bf6-aee6-41aa-a6c3-0b3450c1fb2f",
   "metadata": {},
   "source": [
    "# Homework 4 - Phys 434\n",
    "## Andrew Spicciati\n",
    "## 10/27/21"
   ]
  },
  {
   "cell_type": "code",
   "execution_count": 1,
   "id": "6d419ee3-a829-4c5f-b5af-9fb4f1d43194",
   "metadata": {},
   "outputs": [],
   "source": [
    "import numpy as np\n",
    "import matplotlib\n",
    "import matplotlib.pyplot as plt\n",
    "import scipy\n",
    "from scipy import stats\n",
    "\n",
    "import pandas as pd\n",
    "\n",
    "plt.rcParams[\"figure.figsize\"] = (10,7)\n"
   ]
  },
  {
   "cell_type": "markdown",
   "id": "308cbc6e-77cc-4af7-a347-1ecab44af4c7",
   "metadata": {},
   "source": [
    "# Problem 1"
   ]
  },
  {
   "cell_type": "code",
   "execution_count": 166,
   "id": "503778b6-f6c6-40b3-a4a9-796cdd05b734",
   "metadata": {},
   "outputs": [],
   "source": [
    "x = np.linspace(-5,5,41)\n",
    "bkgd = stats.norm.rvs(size=1000000,scale=2)\n",
    "signal = stats.uniform.rvs(0,20,size=1000000)"
   ]
  },
  {
   "cell_type": "code",
   "execution_count": 167,
   "id": "2accfed2-0873-4d9b-ad50-cf12732ea53b",
   "metadata": {},
   "outputs": [
    {
     "data": {
      "text/plain": [
       "9.999660988776613"
      ]
     },
     "execution_count": 167,
     "metadata": {},
     "output_type": "execute_result"
    }
   ],
   "source": [
    "np.mean(signal)"
   ]
  },
  {
   "cell_type": "code",
   "execution_count": 276,
   "id": "8d0b2d9b-2589-4a2a-9da8-f0bb65c53c36",
   "metadata": {},
   "outputs": [
    {
     "name": "stderr",
     "output_type": "stream",
     "text": [
      "<ipython-input-276-5c17cc56f583>:10: MatplotlibDeprecationWarning: shading='flat' when X and Y have the same dimensions as C is deprecated since 3.3.  Either specify the corners of the quadrilaterals with X and Y, or pass shading='auto', 'nearest' or 'gouraud', or set rcParams['pcolor.shading'].  This will become an error two minor releases later.\n",
      "  plt.pcolormesh(datacenters,signalcenters,Psd.T)\n"
     ]
    },
    {
     "data": {
      "text/plain": [
       "Text(0.5, 0, 'Observed data, $P(d|s)$')"
      ]
     },
     "execution_count": 276,
     "metadata": {},
     "output_type": "execute_result"
    },
    {
     "data": {
      "image/png": "[encoded data removed]",
      "text/plain": [
       "<Figure size 720x504 with 1 Axes>"
      ]
     },
     "metadata": {
      "needs_background": "light"
     },
     "output_type": "display_data"
    }
   ],
   "source": [
    "data = bkgd + signal\n",
    "\n",
    "signaledges = np.linspace(0,20,41)\n",
    "dataedges = np.linspace(-7,27,69)\n",
    "\n",
    "Psd, temp, temp2= np.histogram2d(data,signal, bins=[dataedges,signaledges], density=True)\n",
    "\n",
    "datacenters = (dataedges[:-1] + dataedges[1:]) / 2\n",
    "signalcenters = (signaledges[:-1] + signaledges[1:]) / 2\n",
    "plt.pcolormesh(datacenters,signalcenters,Psd.T)\n",
    "plt.ylabel('True signal, $P(s|d)$', fontsize = 24)\n",
    "plt.xlabel('Observed data, $P(d|s)$', fontsize = 24)"
   ]
  },
  {
   "cell_type": "markdown",
   "id": "21c7376c-d28e-4c19-94d1-a86548d8d26d",
   "metadata": {},
   "source": [
    "# Problem 1b"
   ]
  },
  {
   "cell_type": "code",
   "execution_count": 266,
   "id": "e9371ef8-92c6-4aed-bb22-1c8ba2e7abb2",
   "metadata": {},
   "outputs": [],
   "source": [
    "#for a value of ~10\n",
    "idx = np.argwhere(temp2==10)[0]"
   ]
  },
  {
   "cell_type": "code",
   "execution_count": 267,
   "id": "1c55d6bd-6194-40d8-b612-96f522966748",
   "metadata": {},
   "outputs": [
    {
     "data": {
      "text/plain": [
       "10.0"
      ]
     },
     "execution_count": 267,
     "metadata": {},
     "output_type": "execute_result"
    }
   ],
   "source": [
    "#the actual mean is 10\n",
    "temp2[idx][0]"
   ]
  },
  {
   "cell_type": "code",
   "execution_count": 277,
   "id": "cb7183d3-1c05-420e-9c64-b49b6aa2a31a",
   "metadata": {},
   "outputs": [
    {
     "data": {
      "text/plain": [
       "(68, 40)"
      ]
     },
     "execution_count": 277,
     "metadata": {},
     "output_type": "execute_result"
    }
   ],
   "source": [
    "Psd.shape"
   ]
  },
  {
   "cell_type": "code",
   "execution_count": 274,
   "id": "8e4f37b4-9e76-41eb-897e-2dc839d4e5bc",
   "metadata": {},
   "outputs": [
    {
     "data": {
      "text/plain": [
       "[<matplotlib.lines.Line2D at 0x7fe1c85566a0>]"
      ]
     },
     "execution_count": 274,
     "metadata": {},
     "output_type": "execute_result"
    },
    {
     "data": {
      "image/png": "[encoded data removed]",
      "text/plain": [
       "<Figure size 720x504 with 1 Axes>"
      ]
     },
     "metadata": {
      "needs_background": "light"
     },
     "output_type": "display_data"
    }
   ],
   "source": [
    "plt.step(datacenters,Psd[:,idx]*10,where='mid')"
   ]
  },
  {
   "cell_type": "markdown",
   "id": "7f19098e-d569-44c5-a476-6fedb33f866a",
   "metadata": {},
   "source": [
    "# Problem 1c"
   ]
  },
  {
   "cell_type": "code",
   "execution_count": 275,
   "id": "2f099b2b-7464-48c5-8d98-f5617f3f79ec",
   "metadata": {},
   "outputs": [
    {
     "data": {
      "text/plain": [
       "10.0"
      ]
     },
     "execution_count": 275,
     "metadata": {},
     "output_type": "execute_result"
    }
   ],
   "source": [
    "idx = np.argwhere(temp == 10)[0]\n",
    "temp[idx][0]"
   ]
  },
  {
   "cell_type": "code",
   "execution_count": 285,
   "id": "dc740227-d753-4f56-b7a6-d7ec3d32df84",
   "metadata": {},
   "outputs": [
    {
     "data": {
      "text/plain": [
       "0.09942099420994208"
      ]
     },
     "execution_count": 285,
     "metadata": {},
     "output_type": "execute_result"
    }
   ],
   "source": [
    "sum(Psd[idx,:][0])"
   ]
  },
  {
   "cell_type": "code",
   "execution_count": 286,
   "id": "e30597df-d45a-42f3-911d-341957219704",
   "metadata": {},
   "outputs": [
    {
     "data": {
      "text/plain": [
       "[<matplotlib.lines.Line2D at 0x7fe1c9587700>]"
      ]
     },
     "execution_count": 286,
     "metadata": {},
     "output_type": "execute_result"
    },
    {
     "data": {
      "image/png": "[encoded data removed]",
      "text/plain": [
       "<Figure size 720x504 with 1 Axes>"
      ]
     },
     "metadata": {
      "needs_background": "light"
     },
     "output_type": "display_data"
    }
   ],
   "source": [
    "plt.step(signalcenters,Psd[idx,:][0]*10)"
   ]
  },
  {
   "cell_type": "code",
   "execution_count": null,
   "id": "5db6f34e-890f-4bb6-a10e-1c2133f3b744",
   "metadata": {},
   "outputs": [],
   "source": []
  }
 ],
 "metadata": {
  "kernelspec": {
   "display_name": "Python 3",
   "language": "python",
   "name": "python3"
  },
  "language_info": {
   "codemirror_mode": {
    "name": "ipython",
    "version": 3
   },
   "file_extension": ".py",
   "mimetype": "text/x-python",
   "name": "python",
   "nbconvert_exporter": "python",
   "pygments_lexer": "ipython3",
   "version": "3.8.8"
  }
 },
 "nbformat": 4,
 "nbformat_minor": 5
}
